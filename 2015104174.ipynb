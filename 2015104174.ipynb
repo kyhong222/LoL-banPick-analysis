{
 "cells": [
  {
   "cell_type": "markdown",
   "metadata": {},
   "source": [
    "# 2021년 1학기 웹파이선프로그래밍 중간고사 (이성원 교수 수업)"
   ]
  },
  {
   "cell_type": "markdown",
   "metadata": {},
   "source": [
    "## [주의사항]"
   ]
  },
  {
   "cell_type": "markdown",
   "metadata": {},
   "source": [
    "- 답안 작성과 업로드를 수업 종료 시간 전에 마친 경우도, 시험 영상 촬영 및 PsCheck 실행을 수업 종료 시간까지 유지해야 함\n",
    "- 답안 업로드를 마친 학생은, 컴퓨터를 활용하지 않고 종이 도서 등을 사용하는 다른 과목 시험 공부 등이 가능함 (컴퓨터 사용은 금지함)\n",
    "- 시험 문제에 대한 질의 응답은 불가함. 주어진 입력에 요구한 출력만 제대로 나오면 점수를 받으니, 문제에 충실하게 답안을 작성하기만 하면 됨\n",
    "- 시험 문제에서 요구하지 않은 부분에 대한 배점은 없음. 문제에서 요구하지 않은 요구사항을 스스로 만드는 행위는 비효율적임\n",
    "- 스마트폰으로 시험 영상 촬영시, 전화/문자 등이 오면 녹화가 중지되는 경우가 있음. 미리 비행모드 등으로 변경하기를 권장함\n",
    "- 스마트폰에 따라서 장시간 녹화의 경우, 여러개의 화일로 영상이 분할 되는 경우가 있음. 전체 영상 화일을 하나의 압축 화일로 묶어서 제출하면 됨\n",
    "- 실행이 안되는 답안은 채점을 거부하는 것이 원칙임 (Jupyter Notebook 메뉴 중 >> Kernel >> Restart & Run All 수행시 정상적으로 끝까지 실행되어야 함)\n",
    "- 시험 중 직접 Cell을 만드는 것은 문제 없지만,답안 제출시에는 본인이 만든 Cell은 전량 삭제해야 함 (위반시 대거 감점 처리함)\n",
    "- 채점은 채점 프로그램이 기계적으로 실시함. 대소문자/철자 등에서도 오타 등 요구사항과 다르면 점수 부여가 안되니 주의함\n",
    "- 시험 종료 시간 안에 e-campus로 답안을 올리지 못한 경우는 원칙적으로 0점 처리함. 반드시 업로드 시간을 맞추도록 함\n",
    "- 시험 종료 시간 안에 제출 못한 경우는 사유별로 개별적 구제를 고려할 수 있으니, 바로 웹브라우저 기반 이메일( drsungwon@khu.ac.kr )로 답안화일과 사유를 제출함\n",
    "- e-campus 시스템 문제시, 이로 인한 불이익은 없을테니, 당황하지 말고 바로 웹브라우저 기반 이메일( drsungwon@khu.ac.kr )로 답안화일과 사유를 제출함\n",
    "- 답안 화일의 이름은 ``학번.ipynb`` 임 (틀린 경우 감점 처리함)\n",
    "- 시험 후, 잊지 말고 정해진 시간안에 시험 영상을 e-campus로 업로드 함\n",
    "- 시험 중, 본인이 아무리 생각해도 위급 상황이라고 판단되면, 즉시 이성원 교수( 010-9530-3622 )로 연락함"
   ]
  },
  {
   "cell_type": "markdown",
   "metadata": {},
   "source": [
    "## [문제1]"
   ]
  },
  {
   "cell_type": "markdown",
   "metadata": {},
   "source": [
    "아래와 같이 입력 파라메타 4개를 받아서 ``result`` 값을 리턴하는 함수 ``calculateSecond()``를 작성합니다.<br>\n",
    "입력 파라메타는 모두 정수이며, ``day``는 날짜 수, ``hour``는 시간 수, ``minute``는 분 수, ``second``는 초 수 입니다.<br>\n",
    "리턴 값인 ``result``는 입력 파라메타를 모두 초로 환산하여 합산한 결과인 정수 값 입니다.<br>\n",
    "예를 들어, ``calculateSecond(1,1,1,1)``을 실행하면,<br>\n",
    "``result``는 하루(24시간) + 한시간 + 1분 + 1초를 초(second)로 환산한 값으로 90061 입니다.<br>\n",
    "이를 위하여, ``#START``와 ``#END`` 사이에 적합한 코드를 작성합니다."
   ]
  },
  {
   "cell_type": "code",
   "execution_count": null,
   "metadata": {},
   "outputs": [],
   "source": [
    "def calculateSecond(day, hour, minute, second):\n",
    "    # START\n",
    "    result = day*24*60*60 + hour*3600+minute*60+second\n",
    "    # END\n",
    "    return result"
   ]
  },
  {
   "cell_type": "markdown",
   "metadata": {},
   "source": [
    "## [문제2]"
   ]
  },
  {
   "cell_type": "markdown",
   "metadata": {},
   "source": [
    "아래와 같이 입력 파라메타 1개를 받아서 ``result`` 값을 리턴하는 함수 ``reverseString()``를 작성합니다.<br>\n",
    "입력 파라메타는 문자열이며, 길이의 제한은 없습니다.<br>\n",
    "리턴 값인 ``result``는 입력 파라메타의 문자열에 속한 글자들의 순서를 뒤집은 문자열 입니다.<br>\n",
    "예를 들어, ``reverseString(\"Hello World!\")``을 실행하면,<br>\n",
    "``result``는 ``!dlroW olleH``를 저장한 문자열이 됩니다.<br>\n",
    "이를 위하여, ``#START``와 ``#END`` 사이에 적합한 코드를 작성합니다."
   ]
  },
  {
   "cell_type": "code",
   "execution_count": null,
   "metadata": {},
   "outputs": [],
   "source": [
    "def reverseString(iString):\n",
    "    # START\n",
    "    iString = list(iString)\n",
    "    iString.reverse()\n",
    "    result = ''.join(iString)\n",
    "  \n",
    "    # END\n",
    "    return result"
   ]
  },
  {
   "cell_type": "markdown",
   "metadata": {},
   "source": [
    "## [문제3]"
   ]
  },
  {
   "cell_type": "markdown",
   "metadata": {},
   "source": [
    "아래와 같이 입력 파라메타 3개를 받아서 ``result`` 값을 리턴하는 함수 ``calcTwoCharactersFromString()``를 작성합니다.<br>\n",
    "입력 파라메타 중 첫번째(``iString``)는 문자열이며, 두번째(``iCh1``)와 세번째(``iCh2``)는 각각 글자 하나 입니다.<br>\n",
    "리턴 값인 ``result``는 ``iString`` 문자열 안에 ``iCh1`` 글자와 ``iCh2`` 글자가 몇 개나 포함되었는지에 대한 정수 입니다.<br>\n",
    "예를 들어, ``calcTwoCharactersFromString(\"You only live once\", 'o', 'Y')``을 실행하면,<br>\n",
    "``result``는 문자열내 ``o``의 갯수인 3과 ``Y``의 갯수인 1을 더한 정수 4가 됩니다.<br>\n",
    "이를 위하여, ``#START``와 ``#END`` 사이에 적합한 코드를 작성합니다."
   ]
  },
  {
   "cell_type": "code",
   "execution_count": null,
   "metadata": {},
   "outputs": [],
   "source": [
    "def calcTwoCharactersFromString(iString, iCh1, iCh2):\n",
    "    # START\n",
    "    result = 0\n",
    "    for i in iString:\n",
    "        if i == iCh1 or i == iCh2:\n",
    "            result += 1\n",
    "    \n",
    "    # END\n",
    "    return result"
   ]
  },
  {
   "cell_type": "markdown",
   "metadata": {},
   "source": [
    "## [문제4]"
   ]
  },
  {
   "cell_type": "markdown",
   "metadata": {},
   "source": [
    "문제3의 ``calcTwoCharactersFromString()``을 수정하여, 아래의 ``calcTwoCharactersFromStringV2()``를 작성합니다.<br>\n",
    "수정된 동작은, 입력 파라메타 중 두번째와 세번째 글자가 같은 경우, ``result``를 정수 -1로 리턴 합니다.<br>\n",
    "이를 위하여, ``#START``와 ``#END`` 사이에 적합한 코드를 작성합니다."
   ]
  },
  {
   "cell_type": "code",
   "execution_count": null,
   "metadata": {},
   "outputs": [],
   "source": [
    "def calcTwoCharactersFromStringV2(iString, iCh1, iCh2):\n",
    "    # START\n",
    "    result = 0\n",
    "    if iCh1 == iCh2:\n",
    "        result = -1\n",
    "    else:\n",
    "        for i in iString:\n",
    "            if i == iCh1 or i == iCh2:\n",
    "                result += 1\n",
    "    # END\n",
    "    return result"
   ]
  },
  {
   "cell_type": "markdown",
   "metadata": {},
   "source": [
    "## [문제5]"
   ]
  },
  {
   "cell_type": "markdown",
   "metadata": {},
   "source": [
    "문제3의 ``calcTwoCharactersFromString()``을 수정하여, 아래의 ``calcTwoCharactersFromStringV3()``를 작성합니다.<br>\n",
    "다른 동작은 동일하며, 문제3에서는 두 개의 글자를 ``iCh1``와 ``iCh2``로 입력 받았으나,<br>\n",
    "이번 문제에서는 두 번째 입력 파라메타(``iChList``)가 글자들로 이루어진 리스트로 바뀐 사항만 다릅니다.  \n",
    "이를 위하여, ``#START``와 ``#END`` 사이에 적합한 코드를 작성합니다."
   ]
  },
  {
   "cell_type": "code",
   "execution_count": null,
   "metadata": {},
   "outputs": [],
   "source": [
    "def calcTwoCharactersFromStringV3(iString, iChList):\n",
    "    # START\n",
    "    result = 0\n",
    "    for i in iString:\n",
    "        if i in iChList:\n",
    "            result += 1\n",
    "    \n",
    "    # END\n",
    "    return result"
   ]
  },
  {
   "cell_type": "markdown",
   "metadata": {},
   "source": [
    "## [문제6]"
   ]
  },
  {
   "cell_type": "markdown",
   "metadata": {},
   "source": [
    "아래와 같이 입력 파라메타 2개를 받아서 ``result`` 값을 리턴하는 함수 ``mergeAndSortTwoList()``를 작성합니다.<br>\n",
    "입력 파라메타는 정수를 element로 갖는 리스트 입니다.<br>\n",
    "리턴 값인 ``result``는 입력 받은 두 개의 리스트에 포함된 모든 정수들을 합쳐서 하나의 리스트로 만들며, 중복된 정수는 하나만 포함되도록 하고,<br>\n",
    "작은 숫자가 앞쪽에 있고 큰 숫자가 뒤쪽에 있도록 정렬된 형태로 만들어진 리스트 입니다.<br>\n",
    "이를 위하여, ``#START``와 ``#END`` 사이에 적합한 코드를 작성합니다.<br>"
   ]
  },
  {
   "cell_type": "code",
   "execution_count": null,
   "metadata": {},
   "outputs": [],
   "source": [
    "def mergeAndSortTwoList(iList1, iList2):\n",
    "    # START\n",
    "    result = iList1\n",
    "    for i in iList2:\n",
    "        if i not in result:\n",
    "            result.append(i)\n",
    "    result.sort()\n",
    "    # END\n",
    "    return result"
   ]
  },
  {
   "cell_type": "markdown",
   "metadata": {},
   "source": [
    "## [문제7]"
   ]
  },
  {
   "cell_type": "markdown",
   "metadata": {},
   "source": [
    "문제 6의 내부 동작을 수정하여 다음의 ``mergeAndSortTwoListReverse()``를 작성합니다.<br>\n",
    "수정된 동작은 문제6의 리턴 값인 ``result`` 리스트의 정렬 순서가 반대로 바뀌는 것으로, <br>\n",
    "리턴 값인 ``result``는 큰 숫자가 앞쪽에 있고 작은 숫자가 뒤쪽에 있도록 정렬된 형태로 만들어진 리스트 입니다.<br>\n",
    "이를 위하여, ``#START``와 ``#END`` 사이에 적합한 코드를 작성합니다.<br>"
   ]
  },
  {
   "cell_type": "code",
   "execution_count": null,
   "metadata": {},
   "outputs": [],
   "source": [
    "def mergeAndSortTwoListReverse(iList1, iList2):\n",
    "    # START\n",
    "    result = iList1\n",
    "    for i in iList2:\n",
    "        if i not in result:\n",
    "            result.append(i)\n",
    "    result.sort()\n",
    "    result.reverse()\n",
    "    # END\n",
    "    return result    "
   ]
  },
  {
   "cell_type": "markdown",
   "metadata": {},
   "source": [
    "## [문제8]"
   ]
  },
  {
   "cell_type": "markdown",
   "metadata": {},
   "source": [
    "아래와 같이 입력 파라메타 2개를 받아서 ``result`` 값을 리턴하는 함수 ``searchMatchedCharacter()``를 작성합니다.<br>\n",
    "첫번째 입력 파라메타는 문자열을 element로 갖는 리스트 이며, 두번째 입력 파라메타는 글자 하나 입니다.<br>\n",
    "리턴 값인 ``result``는 첫번째 입력 파라메타의 문자열 중 문자열의 첫번째 글자가 두번째 입력 파라메타와 같은 경우,<br>\n",
    "해당 문자열들로 만들어진 리스트이며, 문자열의 순서는 alphabet의 순서대로 정렬된 상태 입니다.<br>\n",
    "예를 들어, 첫번째 문자열이 다음과 같은 경우:<br>\n",
    "``kingdoms = ['Bacteria', 'Protozoa','Chromista','Plantae','Fungi','Animalia']``<br>\n",
    "다음과 같이 두번째 입력 파라메타를 글자 ``P``로 주는 경우:<br>\n",
    "``searchMatchedCharacter(kingdoms, 'P')``<br>\n",
    "리턴 값 ``result``는 다음과 같습니다.<br>\n",
    "``['Plantae', 'Protozoa']``<br>\n",
    "이를 위하여, ``#START``와 ``#END`` 사이에 적합한 코드를 작성합니다.<br>"
   ]
  },
  {
   "cell_type": "code",
   "execution_count": null,
   "metadata": {},
   "outputs": [],
   "source": [
    "def searchMatchedCharacter(iList, iCh):\n",
    "    # START\n",
    "    result = []\n",
    "    for i in iList:\n",
    "        temp = list(i)\n",
    "        if temp[0] == iCh:\n",
    "            result.append(i)\n",
    "        \n",
    "    result.sort()\n",
    "    # END\n",
    "    return result    "
   ]
  },
  {
   "cell_type": "markdown",
   "metadata": {},
   "source": [
    "## [문제9]"
   ]
  },
  {
   "cell_type": "markdown",
   "metadata": {},
   "source": [
    "아래와 같이 입력 파라메타 없이 정수 10개를 생성하여 리턴하는 함수 ``makeRandomTenIntegers()``를 작성합니다.<br>\n",
    "리컨 값인 ``result``는 정수 리스트로써, 1부터 10사이의 숫자(1과 10포함)를 랜덤한 순서로 포함 합니다.<br>\n",
    "따라서 ``result``는 1부터 10사이의 숫자를 모두 포함하는 정수 리스트이며, 정수들의 순서는 규칙없이 랜덤이여야 합니다.<br>\n",
    "이를 위하여, ``#START``와 ``#END`` 사이에 적합한 코드를 작성합니다.<br>"
   ]
  },
  {
   "cell_type": "code",
   "execution_count": null,
   "metadata": {},
   "outputs": [],
   "source": [
    "import random\n",
    "\n",
    "def makeRandomTenIntegers():\n",
    "    # START\n",
    "    result = []\n",
    "    while len(result) != 10:\n",
    "        a = random.randrange(1,11)\n",
    "        if a not in result:\n",
    "            result.append(a)\n",
    "    # END\n",
    "    return result"
   ]
  },
  {
   "cell_type": "markdown",
   "metadata": {},
   "source": [
    "## [문제10]"
   ]
  },
  {
   "cell_type": "markdown",
   "metadata": {},
   "source": [
    "문제9의 함수를 확장해서 다음의 ``makeRandomIntegersExtended()``를 작성합니다.<br>\n",
    "첫번째 변경 사항으로 입력 파라메타가 2개 이며, 첫번째 입력 파라메타(``iStart``)는 랜덤 값의 시작이 되는 정수이고,<br> \n",
    "두번째 입력 파라메타(``iEnd``)는 랜덤 값의 마지막이 되는 정수 입니다.<br>\n",
    "두 개의 입력 파라메타를 받은 함수는 다음의 경우에 대해서 정수 -1을 리턴하고 수행을 중지합니다.<br>\n",
    "\n",
    "- ``iStart`` 혹은 ``iEnd``가 0보다 작거나 같은 경우<br>\n",
    "- ``iStart``와 ``iEnd``가 같은 경우<br>\n",
    "- ``iStart``가 ``iEnd`` 보다 작은 경우<br>\n",
    "\n",
    "정상적인 입력 파라메타를 받은 경우는,<br> \n",
    "리턴 값인 ``result``를 ``iStart``부터 ``iEnd``사이의 숫자(``iStart``와 ``iEnd``포함)를 랜덤한 순서로 생성하여 채웁니다.<br>\n",
    "따라서 ``result``는 ``iStart``부터 ``iEnd``사이의 숫자를 모두 포함하는 정수 리스트이며, 순서는 규칙없이 랜덤이여야 합니다.<br>\n",
    "이를 위하여, ``#START``와 ``#END`` 사이에 적합한 코드를 작성합니다.<br>"
   ]
  },
  {
   "cell_type": "code",
   "execution_count": null,
   "metadata": {},
   "outputs": [],
   "source": [
    "import random\n",
    "\n",
    "def makeRandomIntegersExtended(iStart, iEnd):\n",
    "    # START\n",
    "    if iStart <= 0:\n",
    "        return -1\n",
    "    elif iEnd <= 0:\n",
    "        return -1\n",
    "    elif iStart == iEnd:\n",
    "        return -1\n",
    "    elif iStart < iEnd:\n",
    "        return -1\n",
    "    else:\n",
    "        result = []\n",
    "        while len(result) != iStart - iEnd + 1:\n",
    "            a = random.randrange(iEnd, iStart+1)\n",
    "            if a not in result:\n",
    "                result.append(a)\n",
    "    # END\n",
    "    return result"
   ]
  }
 ],
 "metadata": {
  "kernelspec": {
   "display_name": "Python 3",
   "language": "python",
   "name": "python3"
  },
  "language_info": {
   "codemirror_mode": {
    "name": "ipython",
    "version": 3
   },
   "file_extension": ".py",
   "mimetype": "text/x-python",
   "name": "python",
   "nbconvert_exporter": "python",
   "pygments_lexer": "ipython3",
   "version": "3.7.3"
  }
 },
 "nbformat": 4,
 "nbformat_minor": 2
}
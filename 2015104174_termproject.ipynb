{
  "nbformat": 4,
  "nbformat_minor": 0,
  "metadata": {
    "colab": {
      "name": "2015104174_termproject_proposal.ipynb",
      "provenance": [],
      "collapsed_sections": []
    },
    "kernelspec": {
      "name": "python392jvsc74a57bd0aee8b7b246df8f9039afb4144a1f6fd8d2ca17a180786b69acc140d282b71a49",
      "display_name": "Python 3.9.2 64-bit"
    },
    "language_info": {
      "name": "python",
      "version": "3.9.2"
    },
    "metadata": {
      "interpreter": {
        "hash": "aee8b7b246df8f9039afb4144a1f6fd8d2ca17a180786b69acc140d282b71a49"
      }
    }
  },
  "cells": [
    {
      "cell_type": "markdown",
      "metadata": {
        "id": "rXvpdWl-fWMs"
      },
      "source": [
        "# 리그 오브 레전드 챔피언 조합에 따른 승률 분석\n"
      ]
    },
    {
      "cell_type": "markdown",
      "metadata": {
        "id": "r1M_gBRP6SDQ"
      },
      "source": [
        "#제안서"
      ]
    },
    {
      "cell_type": "markdown",
      "metadata": {
        "id": "vbvAhjolp60K"
      },
      "source": [
        "## 연구 배경"
      ]
    },
    {
      "cell_type": "markdown",
      "metadata": {
        "id": "k9Nyp9lOp4E3"
      },
      "source": [
        "2021년 현재 가장 유명한 e-sports 종목을 뽑자면, riot games의 league of legends(리그오브레전드, 이하 '롤')를 뽑을 수 있을 것이다. 전 세계적으로 대륙 또는 국가 단위로 리그를 운영하고 있고, 분기별로 세계대회가 진행되고 있다. 프로선수 외에도, 수많은 일반 유저들이 즐기고 있는 게임이기도 하다.\n",
        "\n",
        "유저들이 많아짐에 따라 '어떻게 하면 승리할 수 있는가?'에 대한 유저들 간의 의견 교환이 매우 활발하게 일어났고, 그것이 오늘날의 인게임(경기 내용에서의) 지표들을 바탕으로한 정보들에 대한 높은 수요로 이어지게 되었다. 그 결과, 인게임 통계를 전문적으로 제공해주는 서비스(op.gg, fow.kr 등)와 통계자료를 바탕으로 여러가지 인사이트를 제공하는 크리에이터들(프로관전러PS, 롤박사 해도리 등)이 생겨났다. 또한 프로게임단에서도 기존에 있던 인게임 코치 외에 정보분석관이라는 보직을 새롭게 두는 추세이다.\n",
        "\n",
        "앞서 언급한 컨텐츠들은 보통 '특정 아이템의 승률', '특정 챔피언(게임에 등장하는 캐릭터)의 승률' 등을 기반으로 정보가 제공되고 있다. 그러나 '챔피언들의 조합'의 측면에서 분석한 정보들은 많이 제공되고 있지 않다. 이미 프로게임 수준에서는 활발한 분석이 진행되고 있을 수는 있겠으나, 일반 유저들에게는 많이 알려져 있지 않으며, 그 중요도도 상대적으로 낮게 인식되고 있다.\n",
        "\n",
        "이에 따라, riot games에서 제공하는 매치 데이터들을 사용하여 챔피언들의 조합에 따른 승률 분석을 진행해보고자 한다."
      ]
    },
    {
      "cell_type": "markdown",
      "metadata": {
        "id": "z1VMsnjPjUA_"
      },
      "source": [
        "##방법\n",
        "\n"
      ]
    },
    {
      "cell_type": "markdown",
      "metadata": {
        "id": "sW7nE5DqpzXD"
      },
      "source": [
        "### 1. riot games에서 제공하는 매치 데이터를 수집한다.\n",
        "\n",
        "riot games에서 제공하는 api를 사용하여 일정 수준 이상(플래티넘 티어 이상 경기)의 매치 데이터를 수집한다."
      ]
    },
    {
      "cell_type": "code",
      "metadata": {
        "id": "hkQevi1cfVfE"
      },
      "source": [
        "# import requests\n",
        "# import json\n",
        "\n",
        "# raw_match_data = open('raw_match_data.txt', 'w')\n",
        "# api = \"riot_api\"\n",
        "\n",
        "# res = requests.get(api)\n",
        "\n",
        "# for i in res.text:\n",
        "#   raw_match_data.write(i)\n",
        "\n",
        "# raw_match_data.close()"
      ],
      "execution_count": null,
      "outputs": []
    },
    {
      "cell_type": "markdown",
      "metadata": {
        "id": "zBRDtd0fkw3Y"
      },
      "source": [
        "### 2. 매치 데이터를 바탕으로 챔피언의 역할군 분류를 한다.\n",
        "\n",
        "2021년 기준, 롤은 게임에서 챔피언 당 1개만 구입할 수 있는 '신화 아이템'이 있다. 여러가지 신화 아이템 중 한개만 구입 할 수 있기 때문에, 대부분의 유저들은 자기 챔피언에게 가장 어울리는 신화 아이템을 구매한다.(물론 신화 아이템을 구매하지 않는 경우도 있다. 적절하게 예외처리 한다.)\n",
        "\n",
        "신화 아이템은 각각 역할군으로 분류되어 있으므로, 어떤 한 챔피언에 대하여 가장 선호도가 높은 신화 아이템을 바탕으로 역할군을 나누면, 유저들이 선호하는 해당 챔피언의 역할군을 알 수 있다."
      ]
    },
    {
      "cell_type": "code",
      "metadata": {
        "id": "PqmGrX6LlyvD"
      },
      "source": [
        "# 1. raw_match_data로부터 match data를 정제한다.\n",
        "\n",
        "# 2. 각 매치에 대하여, 매치에 사용된 10명의 챔피언에 대해 각각 사용한 신화 아이템을 카운트한다.\n",
        "\n",
        "# 3. 각 챔피언에 대하여, 가장 많이 사용한 신화아이템을 기반으로 역할군을 분류한다."
      ],
      "execution_count": null,
      "outputs": []
    },
    {
      "cell_type": "markdown",
      "metadata": {
        "id": "3QjD__jlqNZA"
      },
      "source": [
        "### 3. 챔피언의 스킬을 바탕으로 보유한 능력을 정리한다\n",
        "\n",
        "이 부분은 크롤링 할 데이터가 없으므로, 154개의 챔피언을 바탕으로 직점 기록한다.\n",
        "\n",
        "광역하드CC, 단일하드CC, 광역소프트CC, 단일소프트CC, 회복, 보호막, 돌진, 글로벌이동기, 아군버프 등 카테고리를 정하여 정리한다.\n"
      ]
    },
    {
      "cell_type": "code",
      "metadata": {
        "id": "AsXXfJYrq0z-"
      },
      "source": [
        "# abilities = open('abilities.json)\n",
        "# abilities.close()"
      ],
      "execution_count": null,
      "outputs": []
    },
    {
      "cell_type": "markdown",
      "metadata": {
        "id": "tN8K9LoOrGLt"
      },
      "source": [
        "### 4. 매치 데이터를 바탕으로, 사용된 챔피언의 역할군과 능력을 분류하여 정리한다.\n",
        "\n",
        "```\n",
        "team example)\n",
        "team = {\n",
        "  champions = [\"aatrox\", \"graves\", \"ahri\", \"ezreal\", \"janna\"],\n",
        "  roles = {\n",
        "    \"bruser\": 1\n",
        "    \"AD Carry\" : 2\n",
        "    \"mage\" : 1\n",
        "    \"support\" : 1\n",
        "  }\n",
        "  abilities = [\"multiCC\", \"knuckback\", \"blind\", etc...]\n",
        "  }\n",
        "}\n",
        "```"
      ]
    },
    {
      "cell_type": "markdown",
      "metadata": {
        "id": "EeUx4lB3suKG"
      },
      "source": [
        "### 5. 가장 승률이 높은 조합, 특성 데이터 분석 등을 통해 승리 요인을 분석해본다."
      ]
    },
    {
      "cell_type": "markdown",
      "metadata": {
        "id": "DcLBx2XFs15I"
      },
      "source": [
        "### 6. 플래티넘 이상 게임을 직접 관전하고, 결론과 비교하여본다."
      ]
    },
    {
      "cell_type": "markdown",
      "metadata": {
        "id": "GwmVOnXH6jKF"
      },
      "source": [
        "#구현"
      ]
    },
    {
      "cell_type": "markdown",
      "metadata": {
        "id": "1p2iLJzY6nfv"
      },
      "source": [
        "## 1. 플래티넘 이상의 매치 데이터에서 가장 선호하는 신화 아이템 데이터 수집\n",
        "\n",
        "기존의 계획은 riot games에서 제공하는 매치데이터를 사용하려고 했으나, 필요한 데이터를 따로 제공하고 있지 않은 상황이다.\n",
        "\n",
        "lolalytics.com에서 필요한 통계 제공하고 있으므로, 이 사이트의 데이터를 크롤링 하는것으로 대체한다.\n",
        "\n",
        "lolalytics.com에서는, 각 티어이상 게임에서의 챔피언별 아이템 선호도 데이터를 제공하고 있다. 이에따라, 필요한 데이터를 BeautifulSoup를 활용하여 크롤링 하였다.\n",
        "\n",
        "해당 사이트에서는 기본값이 플래티넘 이상 매치데이터 였기 때문에, 따로 티어를 지정할 필요가 없었다.\n",
        "\n",
        "또한, 현재 패치버전인 11.10버전이 기본값으로 설정되어있어, 따로 패치버전을 지정할 필요도 없었다.\n",
        "\n"
      ]
    },
    {
      "cell_type": "markdown",
      "metadata": {
        "id": "ZGhUfVizhZfc"
      },
      "source": [
        "### 1.1. 챔피언 리스트 크롤링"
      ]
    },
    {
      "cell_type": "code",
      "metadata": {
        "tags": [
          "outputPrepend"
        ],
        "id": "3glSRmH2MYaQ",
        "outputId": "827f9e00-ba80-40ea-a8e0-3aacf48d2bcd",
        "colab": {
          "base_uri": "https://localhost:8080/"
        }
      },
      "source": [
        "import requests\n",
        "from bs4 import BeautifulSoup\n",
        "import ast\n",
        "\n",
        "champions = []  # champion list\n",
        "\n",
        "LoLWikiUrl = \"https://leagueoflegends.fandom.com/wiki/List_of_champions\"\n",
        "champs_html = requests.get(LoLWikiUrl)\n",
        "\n",
        "champs_soup = BeautifulSoup(champs_html.content, 'html.parser')\n",
        "# print(champsHtml_parse)\n",
        "\n",
        "champs_table = champs_soup.find(\"table\", {\"class\": \"article-table\"}).find(\"tbody\").find_all(\"tr\")\n",
        "# print(champs_table)\n",
        "\n",
        "# get champion lists from lol wiki\n",
        "for champs in champs_table[1:]:\n",
        "  champName = champs.find(\"td\")[\"data-sort-value\"]\n",
        "  champName = champName.lower() # 대문자 포함시 api호출에 에러 발생함\n",
        "  champName = champName.replace(\" \", \"\")  # 공백 포함시 api호출에 에러 발생함\n",
        "  champName = champName.replace(\"'\", \"\")  # 특정 챔프의 이름에 포함된 ' 포함시 api호출에 에러 발생함\n",
        "  champName = champName.replace(\".\", \"\")  # 특정 챔프의 이름에 포함된 . 포함시 api호출에 에러 발생함\n",
        "  # 특정 챔프이름 예외처리\n",
        "  if champName == 'nunu&willump':\n",
        "    champName = 'nunu'\n",
        "  champions.append(champName)\n",
        "\n",
        "print(champions)\n",
        "# print(len(champions))"
      ],
      "execution_count": 116,
      "outputs": [
        {
          "output_type": "stream",
          "text": [
            "['aatrox', 'ahri', 'akali', 'alistar', 'amumu', 'anivia', 'annie', 'aphelios', 'ashe', 'aurelionsol', 'azir', 'bard', 'blitzcrank', 'brand', 'braum', 'caitlyn', 'camille', 'cassiopeia', 'chogath', 'corki', 'darius', 'diana', 'drmundo', 'draven', 'ekko', 'elise', 'evelynn', 'ezreal', 'fiddlesticks', 'fiora', 'fizz', 'galio', 'gangplank', 'garen', 'gnar', 'gragas', 'graves', 'gwen', 'hecarim', 'heimerdinger', 'illaoi', 'irelia', 'ivern', 'janna', 'jarvaniv', 'jax', 'jayce', 'jhin', 'jinx', 'kaisa', 'kalista', 'karma', 'karthus', 'kassadin', 'katarina', 'kayle', 'kayn', 'kennen', 'khazix', 'kindred', 'kled', 'kogmaw', 'leblanc', 'leesin', 'leona', 'lillia', 'lissandra', 'lucian', 'lulu', 'lux', 'malphite', 'malzahar', 'maokai', 'masteryi', 'missfortune', 'mordekaiser', 'morgana', 'nami', 'nasus', 'nautilus', 'neeko', 'nidalee', 'nocturne', 'nunu', 'olaf', 'orianna', 'ornn', 'pantheon', 'poppy', 'pyke', 'qiyana', 'quinn', 'rakan', 'rammus', 'reksai', 'rell', 'renekton', 'rengar', 'riven', 'rumble', 'ryze', 'samira', 'sejuani', 'senna', 'seraphine', 'sett', 'shaco', 'shen', 'shyvana', 'singed', 'sion', 'sivir', 'skarner', 'sona', 'soraka', 'swain', 'sylas', 'syndra', 'tahmkench', 'taliyah', 'talon', 'taric', 'teemo', 'thresh', 'tristana', 'trundle', 'tryndamere', 'twistedfate', 'twitch', 'udyr', 'urgot', 'varus', 'vayne', 'veigar', 'velkoz', 'vi', 'viego', 'viktor', 'vladimir', 'volibear', 'warwick', 'wukong', 'xayah', 'xerath', 'xinzhao', 'yasuo', 'yone', 'yorick', 'yuumi', 'zac', 'zed', 'ziggs', 'zilean', 'zoe', 'zyra']\n"
          ],
          "name": "stdout"
        }
      ]
    },
    {
      "cell_type": "markdown",
      "metadata": {
        "id": "rz82xI6Whcej"
      },
      "source": [
        "### 1.2. 챔피언 별 선호하는 신화 아이템 크롤링"
      ]
    },
    {
      "cell_type": "code",
      "metadata": {
        "colab": {
          "base_uri": "https://localhost:8080/"
        },
        "id": "NCjEQd_f7mXS",
        "outputId": "8d5b45de-e51e-4557-ccc6-9a9fb41fad05"
      },
      "source": [
        "# import requests\n",
        "# from bs4 import BeautifulSoup\n",
        "# import ast\n",
        "\n",
        "popularMythicItemList_itemCode = []\n",
        "\n",
        "for champ in champions:\n",
        "  print(champ)\n",
        "\n",
        "  URL = 'https://lolalytics.com/lol/'+ champ + '/build/'\n",
        "  # print(URL)\n",
        "  \n",
        "  html = requests.get(URL)\n",
        "  soup = BeautifulSoup(html.content, 'html.parser')\n",
        "  # print(soup)\n",
        "\n",
        "  script_soup = soup.find_all(\"script\")\n",
        "  # print(script_soup)\n",
        "\n",
        "  script_str = ''\n",
        "  script_str = script_str.join(script_soup[2])\n",
        "  script_str = script_str[len(\"var precache = \"):]\n",
        "  # print(script_str)\n",
        "\n",
        "  mythicItem_str = script_str[script_str.find(\"mythicItem\")-1:script_str.find(\"popularItem\")-2]\n",
        "  # print(mythicItem_str)\n",
        "\n",
        "  mythicItem_list_raw = ast.literal_eval(mythicItem_str[len(\"\\\"mythicItem\\\":\"):])\n",
        "  # print(mythicItem_list_raw)\n",
        "\n",
        "  mythicItem_list = []\n",
        "  for item in mythicItem_list_raw:\n",
        "    mythicItem_list.append(item[0])\n",
        "  # print(mythicItem_list)\n",
        "\n",
        "  popularMythicItem = mythicItem_list[0]\n",
        "  # print(popularMythicItem)\n",
        "\n",
        "  popularMythicItemList_itemCode.append(popularMythicItem)\n",
        "\n",
        "print(popularMythicItemList_itemCode)"
      ],
      "execution_count": 117,
      "outputs": [
        {
          "output_type": "stream",
          "text": [
            "aatrox\n",
            "ahri\n",
            "akali\n",
            "alistar\n",
            "amumu\n",
            "anivia\n",
            "annie\n",
            "aphelios\n",
            "ashe\n",
            "aurelionsol\n",
            "azir\n",
            "bard\n",
            "blitzcrank\n",
            "brand\n",
            "braum\n",
            "caitlyn\n",
            "camille\n",
            "cassiopeia\n",
            "chogath\n",
            "corki\n",
            "darius\n",
            "diana\n",
            "drmundo\n",
            "draven\n",
            "ekko\n",
            "elise\n",
            "evelynn\n",
            "ezreal\n",
            "fiddlesticks\n",
            "fiora\n",
            "fizz\n",
            "galio\n",
            "gangplank\n",
            "garen\n",
            "gnar\n",
            "gragas\n",
            "graves\n",
            "gwen\n",
            "hecarim\n",
            "heimerdinger\n",
            "illaoi\n",
            "irelia\n",
            "ivern\n",
            "janna\n",
            "jarvaniv\n",
            "jax\n",
            "jayce\n",
            "jhin\n",
            "jinx\n",
            "kaisa\n",
            "kalista\n",
            "karma\n",
            "karthus\n",
            "kassadin\n",
            "katarina\n",
            "kayle\n",
            "kayn\n",
            "kennen\n",
            "khazix\n",
            "kindred\n",
            "kled\n",
            "kogmaw\n",
            "leblanc\n",
            "leesin\n",
            "leona\n",
            "lillia\n",
            "lissandra\n",
            "lucian\n",
            "lulu\n",
            "lux\n",
            "malphite\n",
            "malzahar\n",
            "maokai\n",
            "masteryi\n",
            "missfortune\n",
            "mordekaiser\n",
            "morgana\n",
            "nami\n",
            "nasus\n",
            "nautilus\n",
            "neeko\n",
            "nidalee\n",
            "nocturne\n",
            "nunu\n",
            "olaf\n",
            "orianna\n",
            "ornn\n",
            "pantheon\n",
            "poppy\n",
            "pyke\n",
            "qiyana\n",
            "quinn\n",
            "rakan\n",
            "rammus\n",
            "reksai\n",
            "rell\n",
            "renekton\n",
            "rengar\n",
            "riven\n",
            "rumble\n",
            "ryze\n",
            "samira\n",
            "sejuani\n",
            "senna\n",
            "seraphine\n",
            "sett\n",
            "shaco\n",
            "shen\n",
            "shyvana\n",
            "singed\n",
            "sion\n",
            "sivir\n",
            "skarner\n",
            "sona\n",
            "soraka\n",
            "swain\n",
            "sylas\n",
            "syndra\n",
            "tahmkench\n",
            "taliyah\n",
            "talon\n",
            "taric\n",
            "teemo\n",
            "thresh\n",
            "tristana\n",
            "trundle\n",
            "tryndamere\n",
            "twistedfate\n",
            "twitch\n",
            "udyr\n",
            "urgot\n",
            "varus\n",
            "vayne\n",
            "veigar\n",
            "velkoz\n",
            "vi\n",
            "viego\n",
            "viktor\n",
            "vladimir\n",
            "volibear\n",
            "warwick\n",
            "wukong\n",
            "xayah\n",
            "xerath\n",
            "xinzhao\n",
            "yasuo\n",
            "yone\n",
            "yorick\n",
            "yuumi\n",
            "zac\n",
            "zed\n",
            "ziggs\n",
            "zilean\n",
            "zoe\n",
            "zyra\n",
            "[6630, 6656, 4633, 3190, 3068, 6653, 6655, 6672, 6672, 6656, 6653, 3190, 3190, 6653, 3190, 6671, 3078, 6653, 6662, 6673, 6631, 4636, 6664, 6673, 3152, 4636, 4636, 6691, 3152, 6630, 4636, 3152, 3078, 6631, 6631, 4636, 6671, 4633, 3078, 6653, 6632, 6673, 2065, 2065, 6630, 3078, 6692, 6671, 6672, 6672, 6673, 2065, 6653, 6656, 3152, 4633, 6630, 3152, 6691, 6672, 6630, 6672, 6655, 6630, 3190, 6653, 6656, 6672, 2065, 6655, 3068, 6653, 4005, 6691, 6672, 4633, 6653, 4005, 6632, 3190, 3152, 4636, 6631, 3068, 6631, 6655, 3068, 6692, 6632, 6691, 6693, 6671, 2065, 6664, 6693, 3190, 6631, 6691, 6630, 4636, 6656, 6673, 3068, 6662, 6617, 6631, 6691, 3068, 4636, 4633, 6662, 6691, 6664, 2065, 6617, 6653, 6656, 6655, 3068, 6655, 6693, 3190, 6653, 3190, 6672, 6662, 6672, 6656, 6672, 6664, 6631, 6691, 6672, 6656, 6655, 3078, 6672, 6655, 3152, 6664, 6632, 6632, 6671, 6655, 6692, 6673, 6673, 3078, 6617, 3068, 6692, 6655, 2065, 6655, 6653]\n"
          ],
          "name": "stdout"
        }
      ]
    },
    {
      "cell_type": "markdown",
      "metadata": {
        "id": "TwV5fQmHhh4F"
      },
      "source": [
        "### 1.3. 크롤링 된 아이템 코드를 아이템명으로 변환"
      ]
    },
    {
      "cell_type": "code",
      "metadata": {
        "id": "N9X8lLffWRsc",
        "outputId": "41282a6b-f27f-4898-f04a-c65861872802",
        "colab": {
          "base_uri": "https://localhost:8080/"
        }
      },
      "source": [
        "print(\"champions:\", len(champions))\n",
        "print(\"crawled length: \", len(popularMythicItemList_itemCode))\n",
        "\n",
        "mythicItem_dict = {6671: \"Galeforce\",\n",
        "                   6672: \"Kraken Slayer\",\n",
        "                   6673: \"Immortal Shieldbow\",\n",
        "\n",
        "                   6662: \"Frostfire Gauntlet\",\n",
        "                   6664: \"Turbo Chemtank\",\n",
        "                   3068: \"Sunfire Aegis\",\n",
        "\n",
        "                   6691: \"Duskblade of Draktharr\",\n",
        "                   6692: \"Eclipse\",\n",
        "                   6693: \"Prowler's Claw\",\n",
        "                   \n",
        "                   6653: \"Liandry's Anguish\",\n",
        "                   6655: \"Luden's Tempest\",\n",
        "                   6656: \"Everfrost\",\n",
        "\n",
        "                   3152: \"Hextech Rocketbelt\",\n",
        "                   4633: \"Riftmaker\",\n",
        "                   4636: \"Night Harvester\",\n",
        "\n",
        "                   6630: \"Goredrinker\",\n",
        "                   6631: \"Stridebreaker\",\n",
        "                   6632: \"Divine Sunderer\",\n",
        "                   3078: \"Trinity Force\",\n",
        "\n",
        "                   2065: \"Shurelya's Battlesong\",\n",
        "                   3190: \"Locket of the Iron Solari\",\n",
        "                   4005: \"Imperial Mandate\",\n",
        "                   6617: \"Moonstone Renewer\"}\n",
        "\n",
        "ChampAndMythic_dict = {}\n",
        "\n",
        "# matching {champ : item} as dict\n",
        "count = 0\n",
        "for champ in champions:\n",
        "  ChampAndMythic_dict[champ] = mythicItem_dict[popularMythicItemList_itemCode[count]]\n",
        "  print(champ, \":\", ChampAndMythic_dict[champ])\n",
        "  count += 1\n",
        "\n",
        "# print(ChampAndMythic_dict)"
      ],
      "execution_count": 133,
      "outputs": [
        {
          "output_type": "stream",
          "text": [
            "champions: 155\n",
            "crawled length:  155\n",
            "aatrox : Goredrinker\n",
            "ahri : Everfrost\n",
            "akali : Riftmaker\n",
            "alistar : Locket of the Iron Solari\n",
            "amumu : Sunfire Aegis\n",
            "anivia : Liandry's Anguish\n",
            "annie : Luden's Tempest\n",
            "aphelios : Kraken Slayer\n",
            "ashe : Kraken Slayer\n",
            "aurelionsol : Everfrost\n",
            "azir : Liandry's Anguish\n",
            "bard : Locket of the Iron Solari\n",
            "blitzcrank : Locket of the Iron Solari\n",
            "brand : Liandry's Anguish\n",
            "braum : Locket of the Iron Solari\n",
            "caitlyn : Galeforce\n",
            "camille : Trinity Force\n",
            "cassiopeia : Liandry's Anguish\n",
            "chogath : Frostfire Gauntlet\n",
            "corki : Immortal Shieldbow\n",
            "darius : Stridebreaker\n",
            "diana : Night Harvester\n",
            "drmundo : Turbo Chemtank\n",
            "draven : Immortal Shieldbow\n",
            "ekko : Hextech Rocketbelt\n",
            "elise : Night Harvester\n",
            "evelynn : Night Harvester\n",
            "ezreal : Duskblade of Draktharr\n",
            "fiddlesticks : Hextech Rocketbelt\n",
            "fiora : Goredrinker\n",
            "fizz : Night Harvester\n",
            "galio : Hextech Rocketbelt\n",
            "gangplank : Trinity Force\n",
            "garen : Stridebreaker\n",
            "gnar : Stridebreaker\n",
            "gragas : Night Harvester\n",
            "graves : Galeforce\n",
            "gwen : Riftmaker\n",
            "hecarim : Trinity Force\n",
            "heimerdinger : Liandry's Anguish\n",
            "illaoi : Divine Sunderer\n",
            "irelia : Immortal Shieldbow\n",
            "ivern : Shurelya's Battlesong\n",
            "janna : Shurelya's Battlesong\n",
            "jarvaniv : Goredrinker\n",
            "jax : Trinity Force\n",
            "jayce : Eclipse\n",
            "jhin : Galeforce\n",
            "jinx : Kraken Slayer\n",
            "kaisa : Kraken Slayer\n",
            "kalista : Immortal Shieldbow\n",
            "karma : Shurelya's Battlesong\n",
            "karthus : Liandry's Anguish\n",
            "kassadin : Everfrost\n",
            "katarina : Hextech Rocketbelt\n",
            "kayle : Riftmaker\n",
            "kayn : Goredrinker\n",
            "kennen : Hextech Rocketbelt\n",
            "khazix : Duskblade of Draktharr\n",
            "kindred : Kraken Slayer\n",
            "kled : Goredrinker\n",
            "kogmaw : Kraken Slayer\n",
            "leblanc : Luden's Tempest\n",
            "leesin : Goredrinker\n",
            "leona : Locket of the Iron Solari\n",
            "lillia : Liandry's Anguish\n",
            "lissandra : Everfrost\n",
            "lucian : Kraken Slayer\n",
            "lulu : Shurelya's Battlesong\n",
            "lux : Luden's Tempest\n",
            "malphite : Sunfire Aegis\n",
            "malzahar : Liandry's Anguish\n",
            "maokai : Imperial Mandate\n",
            "masteryi : Duskblade of Draktharr\n",
            "missfortune : Kraken Slayer\n",
            "mordekaiser : Riftmaker\n",
            "morgana : Liandry's Anguish\n",
            "nami : Imperial Mandate\n",
            "nasus : Divine Sunderer\n",
            "nautilus : Locket of the Iron Solari\n",
            "neeko : Hextech Rocketbelt\n",
            "nidalee : Night Harvester\n",
            "nocturne : Stridebreaker\n",
            "nunu : Sunfire Aegis\n",
            "olaf : Stridebreaker\n",
            "orianna : Luden's Tempest\n",
            "ornn : Sunfire Aegis\n",
            "pantheon : Eclipse\n",
            "poppy : Divine Sunderer\n",
            "pyke : Duskblade of Draktharr\n",
            "qiyana : Prowler's Claw\n",
            "quinn : Galeforce\n",
            "rakan : Shurelya's Battlesong\n",
            "rammus : Turbo Chemtank\n",
            "reksai : Prowler's Claw\n",
            "rell : Locket of the Iron Solari\n",
            "renekton : Stridebreaker\n",
            "rengar : Duskblade of Draktharr\n",
            "riven : Goredrinker\n",
            "rumble : Night Harvester\n",
            "ryze : Everfrost\n",
            "samira : Immortal Shieldbow\n",
            "sejuani : Sunfire Aegis\n",
            "senna : Frostfire Gauntlet\n",
            "seraphine : Moonstone Renewer\n",
            "sett : Stridebreaker\n",
            "shaco : Duskblade of Draktharr\n",
            "shen : Sunfire Aegis\n",
            "shyvana : Night Harvester\n",
            "singed : Riftmaker\n",
            "sion : Frostfire Gauntlet\n",
            "sivir : Duskblade of Draktharr\n",
            "skarner : Turbo Chemtank\n",
            "sona : Shurelya's Battlesong\n",
            "soraka : Moonstone Renewer\n",
            "swain : Liandry's Anguish\n",
            "sylas : Everfrost\n",
            "syndra : Luden's Tempest\n",
            "tahmkench : Sunfire Aegis\n",
            "taliyah : Luden's Tempest\n",
            "talon : Prowler's Claw\n",
            "taric : Locket of the Iron Solari\n",
            "teemo : Liandry's Anguish\n",
            "thresh : Locket of the Iron Solari\n",
            "tristana : Kraken Slayer\n",
            "trundle : Frostfire Gauntlet\n",
            "tryndamere : Kraken Slayer\n",
            "twistedfate : Everfrost\n",
            "twitch : Kraken Slayer\n",
            "udyr : Turbo Chemtank\n",
            "urgot : Stridebreaker\n",
            "varus : Duskblade of Draktharr\n",
            "vayne : Kraken Slayer\n",
            "veigar : Everfrost\n",
            "velkoz : Luden's Tempest\n",
            "vi : Trinity Force\n",
            "viego : Kraken Slayer\n",
            "viktor : Luden's Tempest\n",
            "vladimir : Hextech Rocketbelt\n",
            "volibear : Turbo Chemtank\n",
            "warwick : Divine Sunderer\n",
            "wukong : Divine Sunderer\n",
            "xayah : Galeforce\n",
            "xerath : Luden's Tempest\n",
            "xinzhao : Eclipse\n",
            "yasuo : Immortal Shieldbow\n",
            "yone : Immortal Shieldbow\n",
            "yorick : Trinity Force\n",
            "yuumi : Moonstone Renewer\n",
            "zac : Sunfire Aegis\n",
            "zed : Eclipse\n",
            "ziggs : Luden's Tempest\n",
            "zilean : Shurelya's Battlesong\n",
            "zoe : Luden's Tempest\n",
            "zyra : Liandry's Anguish\n"
          ],
          "name": "stdout"
        }
      ]
    },
    {
      "cell_type": "markdown",
      "metadata": {
        "id": "Bm8MOCJ9bY_M"
      },
      "source": [
        "## 2. 데이터를 바탕으로 챔피언의 역할군 분류\n",
        "\n"
      ]
    },
    {
      "cell_type": "markdown",
      "metadata": {
        "id": "dmDkNShugq0H"
      },
      "source": [
        "### 2.1. 아이템 선택을 통한 역할군 분류"
      ]
    },
    {
      "cell_type": "code",
      "metadata": {
        "id": "tLrc7bo0bVX6",
        "outputId": "e6f4f288-ea0b-45b0-ad2f-12ec6cea8085",
        "colab": {
          "base_uri": "https://localhost:8080/"
        }
      },
      "source": [
        "ChampAndRole_dict = {}\n",
        "\n",
        "# 역할군 분류 로직 개선 필요\n",
        "\n",
        "for champ in champions:\n",
        "  popularItem = ChampAndMythic_dict[champ]\n",
        "  role = ''\n",
        "  if popularItem in [\"Galeforce\", \"Kraken Slayer\", \"Immortal Shieldbow\"]:\n",
        "    role = 'AD Carry'\n",
        "  elif popularItem in [\"Frostfire Gauntlet\", \"Turbo Chemtank\", \"Sunfire Aegis\"]:\n",
        "    role = 'Tanker'\n",
        "  elif popularItem in [\"Duskblade of Draktharr\", \"Eclipse\", \"Prowler's Claw\"]:\n",
        "    role = 'Assassin'\n",
        "  elif popularItem in [\"Liandry's Anguish\", \"Luden's Tempest\", \"Everfrost\"]:\n",
        "    role = 'AP Mage'\n",
        "  elif popularItem in [\"Hextech Rocketbelt\", \"Riftmaker\", \"Night Harvester\"]:\n",
        "    role = 'AP Mage'\n",
        "  elif popularItem in [\"Goredrinker\", \"Stridebreaker\", \"Divine Sunderer\", \"Trinity Force\"]:\n",
        "    role = 'Bruiser'\n",
        "  elif popularItem in [\"Shurelya's Battlesong\", \"Locket of the Iron Solari\", \"Imperial Mandate\", \"Moonstone Renewer\"]:\n",
        "    role = 'Supporter'\n",
        "  else:\n",
        "    role = 'Unknown'\n",
        "\n",
        "  ChampAndRole_dict[champ] = role\n",
        "\n",
        "print(ChampAndRole_dict)"
      ],
      "execution_count": 123,
      "outputs": [
        {
          "output_type": "stream",
          "text": [
            "{'aatrox': 'Bruiser', 'ahri': 'AP Mage', 'akali': 'AP Mage', 'alistar': 'Supporter', 'amumu': 'Tanker', 'anivia': 'AP Mage', 'annie': 'AP Mage', 'aphelios': 'AD Carry', 'ashe': 'AD Carry', 'aurelionsol': 'AP Mage', 'azir': 'AP Mage', 'bard': 'Supporter', 'blitzcrank': 'Supporter', 'brand': 'AP Mage', 'braum': 'Supporter', 'caitlyn': 'AD Carry', 'camille': 'Bruiser', 'cassiopeia': 'AP Mage', 'chogath': 'Tanker', 'corki': 'AD Carry', 'darius': 'Bruiser', 'diana': 'AP Mage', 'drmundo': 'Tanker', 'draven': 'AD Carry', 'ekko': 'AP Mage', 'elise': 'AP Mage', 'evelynn': 'AP Mage', 'ezreal': 'Assassin', 'fiddlesticks': 'AP Mage', 'fiora': 'Bruiser', 'fizz': 'AP Mage', 'galio': 'AP Mage', 'gangplank': 'Bruiser', 'garen': 'Bruiser', 'gnar': 'Bruiser', 'gragas': 'AP Mage', 'graves': 'AD Carry', 'gwen': 'AP Mage', 'hecarim': 'Bruiser', 'heimerdinger': 'AP Mage', 'illaoi': 'Bruiser', 'irelia': 'AD Carry', 'ivern': 'Supporter', 'janna': 'Supporter', 'jarvaniv': 'Bruiser', 'jax': 'Bruiser', 'jayce': 'Assassin', 'jhin': 'AD Carry', 'jinx': 'AD Carry', 'kaisa': 'AD Carry', 'kalista': 'AD Carry', 'karma': 'Supporter', 'karthus': 'AP Mage', 'kassadin': 'AP Mage', 'katarina': 'AP Mage', 'kayle': 'AP Mage', 'kayn': 'Bruiser', 'kennen': 'AP Mage', 'khazix': 'Assassin', 'kindred': 'AD Carry', 'kled': 'Bruiser', 'kogmaw': 'AD Carry', 'leblanc': 'AP Mage', 'leesin': 'Bruiser', 'leona': 'Supporter', 'lillia': 'AP Mage', 'lissandra': 'AP Mage', 'lucian': 'AD Carry', 'lulu': 'Supporter', 'lux': 'AP Mage', 'malphite': 'Tanker', 'malzahar': 'AP Mage', 'maokai': 'Supporter', 'masteryi': 'Assassin', 'missfortune': 'AD Carry', 'mordekaiser': 'AP Mage', 'morgana': 'AP Mage', 'nami': 'Supporter', 'nasus': 'Bruiser', 'nautilus': 'Supporter', 'neeko': 'AP Mage', 'nidalee': 'AP Mage', 'nocturne': 'Bruiser', 'nunu': 'Tanker', 'olaf': 'Bruiser', 'orianna': 'AP Mage', 'ornn': 'Tanker', 'pantheon': 'Assassin', 'poppy': 'Bruiser', 'pyke': 'Assassin', 'qiyana': 'Assassin', 'quinn': 'AD Carry', 'rakan': 'Supporter', 'rammus': 'Tanker', 'reksai': 'Assassin', 'rell': 'Supporter', 'renekton': 'Bruiser', 'rengar': 'Assassin', 'riven': 'Bruiser', 'rumble': 'AP Mage', 'ryze': 'AP Mage', 'samira': 'AD Carry', 'sejuani': 'Tanker', 'senna': 'Tanker', 'seraphine': 'Supporter', 'sett': 'Bruiser', 'shaco': 'Assassin', 'shen': 'Tanker', 'shyvana': 'AP Mage', 'singed': 'AP Mage', 'sion': 'Tanker', 'sivir': 'Assassin', 'skarner': 'Tanker', 'sona': 'Supporter', 'soraka': 'Supporter', 'swain': 'AP Mage', 'sylas': 'AP Mage', 'syndra': 'AP Mage', 'tahmkench': 'Tanker', 'taliyah': 'AP Mage', 'talon': 'Assassin', 'taric': 'Supporter', 'teemo': 'AP Mage', 'thresh': 'Supporter', 'tristana': 'AD Carry', 'trundle': 'Tanker', 'tryndamere': 'AD Carry', 'twistedfate': 'AP Mage', 'twitch': 'AD Carry', 'udyr': 'Tanker', 'urgot': 'Bruiser', 'varus': 'Assassin', 'vayne': 'AD Carry', 'veigar': 'AP Mage', 'velkoz': 'AP Mage', 'vi': 'Bruiser', 'viego': 'AD Carry', 'viktor': 'AP Mage', 'vladimir': 'AP Mage', 'volibear': 'Tanker', 'warwick': 'Bruiser', 'wukong': 'Bruiser', 'xayah': 'AD Carry', 'xerath': 'AP Mage', 'xinzhao': 'Assassin', 'yasuo': 'AD Carry', 'yone': 'AD Carry', 'yorick': 'Bruiser', 'yuumi': 'Supporter', 'zac': 'Tanker', 'zed': 'Assassin', 'ziggs': 'AP Mage', 'zilean': 'Supporter', 'zoe': 'AP Mage', 'zyra': 'AP Mage'}\n"
          ],
          "name": "stdout"
        }
      ]
    },
    {
      "cell_type": "markdown",
      "metadata": {
        "id": "RCK_Y4AKefwo"
      },
      "source": [
        "### 2.2. 챔피언이 보유한 능력 정리"
      ]
    },
    {
      "cell_type": "code",
      "metadata": {
        "id": "E-Xb_v9eemd3",
        "outputId": "3dcae811-7e58-4b4d-cc3b-4c1ceff56256",
        "colab": {
          "base_uri": "https://localhost:8080/"
        }
      },
      "source": [
        "ChampAndAbility_dict = {}\n",
        "\n",
        "# 아직 정리 못함\n",
        "# abilities_file = open('abilities.csv', 'r')\n",
        "abilities_file = [['aatrox', 'melee','zone-airborn']]\n",
        "\n",
        "for line in abilities_file:\n",
        "  # print(line)\n",
        "  champ = line[0]\n",
        "  abilities = line[1:]\n",
        "\n",
        "  ChampAndAbility_dict[champ] = abilities\n",
        "\n",
        "print(ChampAndAbility_dict)"
      ],
      "execution_count": 127,
      "outputs": [
        {
          "output_type": "stream",
          "text": [
            "{'aatrox': ['melee', 'zone-airborn']}\n"
          ],
          "name": "stdout"
        }
      ]
    },
    {
      "cell_type": "markdown",
      "metadata": {
        "id": "3lkHKLBrglFH"
      },
      "source": [
        "### 2.3. 2.1와 2.2를 종합한 역할군 정리\n"
      ]
    },
    {
      "cell_type": "code",
      "execution_count": null,
      "metadata": {},
      "outputs": [],
      "source": [
        "# for champ in champions:\n"
      ]
    },
    {
      "cell_type": "markdown",
      "metadata": {
        "id": "Dqce8F1Fg-Lr"
      },
      "source": [
        "## 3. 매치 데이터에서 승리팀의 조합을 역할군으로 파악\n",
        "현재 riot games에서는 마스터, 그랜드마스터, 챌린저 게임의 매치데이터만 제공하고 있어, 계획했던 매치데이터를 얻기 위해서는 플래티넘 티어 계정의 매치데이터를 기반으로 한명씩 계정을 체인하여 수동으로 얻어야 한다.\n",
        "\n",
        "또한, riot games에서 시간당 api를 호출 가능한 횟수를 제한하고 있으므로, 별도의 로직이 필요하다."
      ]
    },
    {
      "cell_type": "code",
      "execution_count": null,
      "metadata": {},
      "outputs": [],
      "source": []
    },
    {
      "cell_type": "markdown",
      "metadata": {
        "id": "IWJMY_wMhNIQ"
      },
      "source": [
        "## 4. 승률이 높은 조합 도출"
      ]
    },
    {
      "cell_type": "markdown",
      "metadata": {
        "id": "HaVtjTkUhQfP"
      },
      "source": [
        "## 5. 실제 경기 관전을 통한 검증"
      ]
    },
    {
      "cell_type": "code",
      "execution_count": null,
      "metadata": {},
      "outputs": [],
      "source": []
    }
  ]
}
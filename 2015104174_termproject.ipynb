{
  "nbformat": 4,
  "nbformat_minor": 0,
  "metadata": {
    "colab": {
      "name": "2015104174_termproject_proposal.ipynb",
      "provenance": [],
      "collapsed_sections": []
    },
    "kernelspec": {
      "name": "python392jvsc74a57bd0aee8b7b246df8f9039afb4144a1f6fd8d2ca17a180786b69acc140d282b71a49",
      "display_name": "Python 3.9.2 64-bit"
    },
    "language_info": {
      "name": "python",
      "version": "3.9.2"
    },
    "metadata": {
      "interpreter": {
        "hash": "aee8b7b246df8f9039afb4144a1f6fd8d2ca17a180786b69acc140d282b71a49"
      }
    }
  },
  "cells": [
    {
      "cell_type": "markdown",
      "metadata": {
        "id": "rXvpdWl-fWMs"
      },
      "source": [
        "# 리그 오브 레전드 챔피언 조합에 따른 승률 분석\n"
      ]
    },
    {
      "cell_type": "markdown",
      "metadata": {
        "id": "r1M_gBRP6SDQ"
      },
      "source": [
        "#제안서"
      ]
    },
    {
      "cell_type": "markdown",
      "metadata": {
        "id": "vbvAhjolp60K"
      },
      "source": [
        "## 연구 배경"
      ]
    },
    {
      "cell_type": "markdown",
      "metadata": {
        "id": "k9Nyp9lOp4E3"
      },
      "source": [
        "2021년 현재 가장 유명한 e-sports 종목을 뽑자면, riot games의 league of legends(리그오브레전드, 이하 '롤')를 뽑을 수 있을 것이다. 전 세계적으로 대륙 또는 국가 단위로 리그를 운영하고 있고, 분기별로 세계대회가 진행되고 있다. 프로선수 외에도, 수많은 일반 유저들이 즐기고 있는 게임이기도 하다.\n",
        "\n",
        "유저들이 많아짐에 따라 '어떻게 하면 승리할 수 있는가?'에 대한 유저들 간의 의견 교환이 매우 활발하게 일어났고, 그것이 오늘날의 인게임(경기 내용에서의) 지표들을 바탕으로한 정보들에 대한 높은 수요로 이어지게 되었다. 그 결과, 인게임 통계를 전문적으로 제공해주는 서비스(op.gg, fow.kr 등)와 통계자료를 바탕으로 여러가지 인사이트를 제공하는 크리에이터들(프로관전러PS, 롤박사 해도리 등)이 생겨났다. 또한 프로게임단에서도 기존에 있던 인게임 코치 외에 정보분석관이라는 보직을 새롭게 두는 추세이다.\n",
        "\n",
        "앞서 언급한 컨텐츠들은 보통 '특정 아이템의 승률', '특정 챔피언(게임에 등장하는 캐릭터)의 승률' 등을 기반으로 정보가 제공되고 있다. 그러나 '챔피언들의 조합'의 측면에서 분석한 정보들은 많이 제공되고 있지 않다. 이미 프로게임 수준에서는 활발한 분석이 진행되고 있을 수는 있겠으나, 일반 유저들에게는 많이 알려져 있지 않으며, 그 중요도도 상대적으로 낮게 인식되고 있다.\n",
        "\n",
        "이에 따라, riot games에서 제공하는 매치 데이터들을 사용하여 챔피언들의 조합에 따른 승률 분석을 진행해보고자 한다."
      ]
    },
    {
      "cell_type": "markdown",
      "metadata": {
        "id": "z1VMsnjPjUA_"
      },
      "source": [
        "##방법\n",
        "\n"
      ]
    },
    {
      "cell_type": "markdown",
      "metadata": {
        "id": "sW7nE5DqpzXD"
      },
      "source": [
        "### 1. riot games에서 제공하는 매치 데이터를 수집한다.\n",
        "\n",
        "riot games에서 제공하는 api를 사용하여 일정 수준 이상(플래티넘 티어 이상 경기)의 매치 데이터를 수집한다."
      ]
    },
    {
      "cell_type": "code",
      "metadata": {
        "id": "hkQevi1cfVfE"
      },
      "source": [
        "# import requests\n",
        "# import json\n",
        "\n",
        "# raw_match_data = open('raw_match_data.txt', 'w')\n",
        "# api = \"riot_api\"\n",
        "\n",
        "# res = requests.get(api)\n",
        "\n",
        "# for i in res.text:\n",
        "#   raw_match_data.write(i)\n",
        "\n",
        "# raw_match_data.close()"
      ],
      "execution_count": 1,
      "outputs": []
    },
    {
      "cell_type": "markdown",
      "metadata": {
        "id": "zBRDtd0fkw3Y"
      },
      "source": [
        "### 2. 매치 데이터를 바탕으로 챔피언의 역할군 분류를 한다.\n",
        "\n",
        "2021년 기준, 롤은 게임에서 챔피언 당 1개만 구입할 수 있는 '신화 아이템'이 있다. 여러가지 신화 아이템 중 한개만 구입 할 수 있기 때문에, 대부분의 유저들은 자기 챔피언에게 가장 어울리는 신화 아이템을 구매한다.(물론 신화 아이템을 구매하지 않는 경우도 있다. 적절하게 예외처리 한다.)\n",
        "\n",
        "신화 아이템은 각각 역할군으로 분류되어 있으므로, 어떤 한 챔피언에 대하여 가장 선호도가 높은 신화 아이템을 바탕으로 역할군을 나누면, 유저들이 선호하는 해당 챔피언의 역할군을 알 수 있다."
      ]
    },
    {
      "cell_type": "code",
      "metadata": {
        "id": "PqmGrX6LlyvD"
      },
      "source": [
        "# 1. raw_match_data로부터 match data를 정제한다.\n",
        "\n",
        "# 2. 각 매치에 대하여, 매치에 사용된 10명의 챔피언에 대해 각각 사용한 신화 아이템을 카운트한다.\n",
        "\n",
        "# 3. 각 챔피언에 대하여, 가장 많이 사용한 신화아이템을 기반으로 역할군을 분류한다."
      ],
      "execution_count": 2,
      "outputs": []
    },
    {
      "cell_type": "markdown",
      "metadata": {
        "id": "3QjD__jlqNZA"
      },
      "source": [
        "### 3. 챔피언의 스킬을 바탕으로 보유한 능력을 정리한다\n",
        "\n",
        "이 부분은 크롤링 할 데이터가 없으므로, 154개의 챔피언을 바탕으로 직점 기록한다.\n",
        "\n",
        "광역하드CC, 단일하드CC, 광역소프트CC, 단일소프트CC, 회복, 보호막, 돌진, 글로벌이동기, 아군버프 등 카테고리를 정하여 정리한다.\n"
      ]
    },
    {
      "cell_type": "code",
      "metadata": {
        "id": "AsXXfJYrq0z-"
      },
      "source": [
        "# abilities = open('abilities.json)\n",
        "# abilities.close()"
      ],
      "execution_count": 3,
      "outputs": []
    },
    {
      "cell_type": "markdown",
      "metadata": {
        "id": "tN8K9LoOrGLt"
      },
      "source": [
        "### 4. 매치 데이터를 바탕으로, 사용된 챔피언의 역할군과 능력을 분류하여 정리한다.\n",
        "\n",
        "```\n",
        "team example)\n",
        "team = {\n",
        "  champions = [\"aatrox\", \"graves\", \"ahri\", \"ezreal\", \"janna\"],\n",
        "  roles = {\n",
        "    \"bruser\": 1\n",
        "    \"AD Carry\" : 2\n",
        "    \"mage\" : 1\n",
        "    \"support\" : 1\n",
        "  }\n",
        "  abilities = [\"multiCC\", \"knuckback\", \"blind\", etc...]\n",
        "  }\n",
        "}\n",
        "```"
      ]
    },
    {
      "cell_type": "markdown",
      "metadata": {
        "id": "EeUx4lB3suKG"
      },
      "source": [
        "### 5. 가장 승률이 높은 조합, 특성 데이터 분석 등을 통해 승리 요인을 분석해본다."
      ]
    },
    {
      "cell_type": "markdown",
      "metadata": {
        "id": "DcLBx2XFs15I"
      },
      "source": [
        "### 6. 플래티넘 이상 게임을 직접 관전하고, 결론과 비교하여본다."
      ]
    },
    {
      "cell_type": "markdown",
      "metadata": {
        "id": "GwmVOnXH6jKF"
      },
      "source": [
        "#구현"
      ]
    },
    {
      "cell_type": "markdown",
      "metadata": {
        "id": "1p2iLJzY6nfv"
      },
      "source": [
        "## 1. 플래티넘 이상의 매치 데이터에서 가장 선호하는 신화 아이템 데이터 수집\n",
        "\n",
        "기존의 계획은 riot games에서 제공하는 매치데이터를 사용하려고 했으나, 필요한 데이터를 따로 제공하고 있지 않은 상황이다.\n",
        "\n",
        "lolalytics.com에서 필요한 매치데이터를 제공하고 있으므로, 이 사이트의 데이터를 크롤링 하는것으로 대체한다.\n",
        "\n",
        "lolalytics.com에서는, 각 티어이상 게임에서의 챔피언별 아이템 선호도 데이터를 제공하고 있다. 이에따라, 필요한 데이터를 BeautifulSoup를 활용하여 크롤링 하였다.\n",
        "\n",
        "해당 사이트에서는 기본값이 플래티넘 이상 매치데이터 였기 때문에, 따로 티어를 지정할 필요가 없었다.\n",
        "\n",
        "또한, 현재 패치버전인 11.10버전이 기본값으로 설정되어있어, 따로 패치버전을 지정할 필요도 없었다.\n",
        "\n"
      ]
    },
    {
      "cell_type": "code",
      "execution_count": 7,
      "metadata": {
        "tags": [
          "outputPrepend"
        ]
      },
      "outputs": [
        {
          "output_type": "stream",
          "name": "stdout",
          "text": [
            "1.244 1.242 0 2.24.409 2.995 1.227.719.794 1.079 1.819 1.079 3.075zm6.108-2.489a3.281 3.281 0 0 0-.592-.05c-.661 0-1.172.247-1.532.742-.314.438-.47.99-.47 1.658v4.406h-1.878l.016-5.752c0-.969-.023-1.85-.07-2.645h1.638l.068 1.607h.052c.198-.552.512-.997.94-1.33.418-.3.871-.449 1.358-.449.174 0 .331.012.47.034v1.78m6.613 1.676c.013-.553-.11-1.03-.365-1.434-.325-.518-.825-.777-1.497-.777-.615 0-1.115.252-1.496.76-.314.403-.5.887-.556 1.45h3.914zm1.792.484c0 .334-.022.616-.069.846h-5.637c.022.83.294 1.463.817 1.901.475.391 1.09.587 1.844.587.834 0 1.596-.133 2.281-.398l.294 1.296c-.8.346-1.745.519-2.835.519-1.312 0-2.342-.384-3.09-1.15-.747-.766-1.123-1.794-1.123-3.084 0-1.267.347-2.32 1.046-3.16.73-.9 1.716-1.348 2.957-1.348 1.219 0 2.142.448 2.769 1.347.497.714.746 1.596.746 2.643zM42.263 8.783c0-.667-.178-1.18-.535-1.536-.357-.356-.877-.535-1.56-.535-.292 0-.54.02-.745.06v4.277c.114.018.322.026.624.026.707 0 1.253-.195 1.638-.585.385-.39.578-.96.578-1.707zm.974-.025c0 1.03-.31 1.805-.932 2.326-.577.48-1.394.72-2.454.72-.525 0-.975-.022-1.351-.067V6.11c.49-.079 1.02-.118 1.59-.118 1.01 0 1.77.218 2.284.654.574.492.863 1.196.863 2.113zm4.206.929c0-.38-.083-.706-.248-.978-.194-.33-.47-.495-.83-.495-.37 0-.652.165-.846.495-.165.272-.248.604-.248.995 0 .38.083.707.248.98.2.328.478.492.838.492.354 0 .63-.167.83-.501.17-.278.256-.607.256-.988zm.958-.03c0 .635-.182 1.155-.547 1.562-.383.42-.89.629-1.522.629-.61 0-1.096-.2-1.458-.603-.362-.402-.543-.909-.543-1.52 0-.639.186-1.162.56-1.57.373-.408.876-.61 1.508-.61.611 0 1.1.2 1.472.602.352.39.53.894.53 1.51zm6.925-2.027l-1.3 4.124h-.845l-.54-1.791a13.32 13.32 0 0 1-.334-1.333h-.016c-.08.453-.191.898-.334 1.333l-.573 1.79h-.855L49.307 7.63h.949l.47 1.96c.113.465.208.906.283 1.325h.016c.068-.345.182-.784.342-1.316l.59-1.969h.752l.565 1.927c.137.47.248.922.333 1.358h.026c.062-.425.157-.877.283-1.358l.504-1.927h.906m4.789 4.124h-.924V9.39c0-.728-.278-1.092-.837-1.092a.837.837 0 0 0-.667.301c-.171.2-.257.436-.257.707v2.447h-.924V8.809c0-.363-.011-.755-.033-1.18h.812l.043.645h.026c.107-.2.268-.367.478-.498.25-.155.53-.232.838-.232.387 0 .71.125.967.374.319.305.478.76.478 1.366v2.47m1.625-6.017h.923v6.017h-.923zm5.402 3.95c0-.38-.082-.706-.247-.978-.193-.33-.471-.495-.829-.495-.372 0-.654.165-.847.495-.165.272-.248.604-.248.995 0 .38.083.707.248.98.2.328.479.492.838.492.354 0 .629-.167.829-.501.172-.278.256-.607.256-.988zm.96-.03c0 .635-.183 1.155-.548 1.562-.382.42-.89.629-1.522.629-.611 0-1.097-.2-1.458-.603-.362-.402-.542-.909-.542-1.52 0-.639.186-1.162.559-1.57.373-.408.877-.61 1.508-.61.612 0 1.1.2 1.472.602.353.39.53.894.53 1.51zm3.511.679V9.7c-1.019-.017-1.528.26-1.528.832 0 .215.058.376.177.483.119.108.27.161.451.161a.927.927 0 0 0 .564-.19.777.777 0 0 0 .336-.65zm.96 1.418h-.83l-.07-.475h-.025c-.284.379-.689.569-1.214.569-.392 0-.709-.125-.949-.374a1.168 1.168 0 0 1-.325-.84c0-.504.212-.888.637-1.155.425-.265 1.023-.396 1.793-.39v-.077c0-.543-.288-.814-.863-.814-.41 0-.772.101-1.083.305l-.188-.603c.386-.237.862-.356 1.426-.356 1.086 0 1.63.569 1.63 1.707v1.519c0 .412.02.74.06.984zm4.291-1.74v-.687a1.043 1.043 0 0 0-.36-.844.908.908 0 0 0-.617-.226.952.952 0 0 0-.813.407c-.197.272-.296.62-.296 1.044 0 .408.094.739.284.993.2.271.47.408.807.408a.895.895 0 0 0 .73-.34c.178-.209.265-.46.265-.755zm.958 1.74h-.82l-.042-.662h-.027c-.262.503-.707.755-1.334.755-.501 0-.917-.195-1.248-.585-.33-.391-.496-.897-.496-1.52 0-.667.179-1.208.539-1.62a1.662 1.662 0 0 1 1.283-.578c.557 0 .948.187 1.17.56h.017V5.737h.925v4.906c0 .401.01.771.033 1.11zm6.943-2.067c0-.38-.083-.706-.248-.978-.194-.33-.47-.495-.83-.495-.37 0-.652.165-.847.495-.165.272-.248.604-.248.995 0 .38.083.707.248.98.2.328.479.492.839.492.353 0 .63-.167.83-.501.17-.278.256-.607.256-.988zm.957-.03c0 .635-.182 1.155-.547 1.562-.383.42-.889.629-1.522.629-.61 0-1.095-.2-1.458-.603-.362-.402-.542-.909-.542-1.52 0-.639.186-1.162.56-1.57.372-.408.875-.61 1.51-.61.608 0 1.1.2 1.469.602.353.39.53.894.53 1.51zm4.968 2.097h-.923V9.39c0-.728-.279-1.092-.839-1.092a.833.833 0 0 0-.666.301c-.17.2-.257.436-.257.707v2.447h-.924V8.809c0-.363-.01-.755-.033-1.18h.811l.043.645h.026c.108-.2.269-.367.478-.498.252-.155.531-.232.839-.232.388 0 .71.125.966.374.32.305.478.76.478 1.366v2.47m6.218-3.438h-1.019v2.004c0 .509.181.764.54.764.165 0 .302-.014.41-.043l.025.696c-.182.068-.422.102-.718.102-.365 0-.649-.11-.853-.331-.207-.221-.309-.591-.309-1.112v-2.08h-.608v-.687h.608v-.756l.905-.271v1.027h1.019v.687m4.89 3.438h-.924V9.409c0-.74-.28-1.11-.837-1.11-.429 0-.721.215-.882.644-.027.09-.042.2-.042.33v2.48h-.923V5.738h.923v2.485h.017c.29-.452.708-.678 1.248-.678.383 0 .699.125.95.374.314.31.47.772.47 1.383v2.453m4.163-2.497a1.23 1.23 0 0 0-.179-.704c-.16-.255-.404-.382-.735-.382a.88.88 0 0 0-.735.374 1.38 1.38 0 0 0-.274.712h1.923zm.882.238c0 .165-.013.303-.035.416h-2.77c.012.408.144.718.4.934.235.192.539.288.909.288.41 0 .783-.064 1.12-.195l.145.636c-.394.17-.857.256-1.395.256-.643 0-1.15-.188-1.516-.565-.368-.377-.55-.882-.55-1.515 0-.622.17-1.14.512-1.553.358-.442.842-.663 1.453-.663.598 0 1.052.221 1.358.663.246.35.369.784.369 1.298z\" fill=\"#FFF\"></path></g></symbol><symbol id=\"wds-company-store-googleplay\" viewbox=\"0 0 119 35\"><g fill=\"none\" fill-rule=\"evenodd\"><path d=\"M114.593 35H4.407C1.94 35 0 33.075 0 30.625V4.375C0 1.925 1.94 0 4.407 0h110.186C117.06 0 119 1.925 119 4.375v26.25c0 2.362-1.94 4.375-4.407 4.375z\" fill=\"#000\"></path><path d=\"M114.593.7c2.027 0 3.702 1.662 3.702 3.675v26.25c0 2.013-1.675 3.675-3.702 3.675H4.407C2.38 34.3.705 32.638.705 30.625V4.375C.705 2.362 2.38.7 4.407.7h110.186zm0-.7H4.407C1.94 0 0 1.925 0 4.375v26.25C0 33.075 1.94 35 4.407 35h110.186c2.468 0 4.407-1.925 4.407-4.375V4.375C119 2.013 117.06 0 114.593 0z\" fill=\"#A6A6A6\"></path><path d=\"M41.475 8.925c0 .7-.175 1.313-.613 1.75-.525.525-1.137.787-1.925.787-.787 0-1.4-.262-1.924-.787-.526-.525-.788-1.138-.788-1.925 0-.787.262-1.4.788-1.925.525-.525 1.137-.788 1.925-.788.35 0 .7.088 1.05.263.35.175.612.35.787.612l-.438.438c-.35-.438-.787-.612-1.4-.612-.524 0-1.05.174-1.4.612-.437.35-.612.875-.612 1.488 0 .612.175 1.137.613 1.487.437.35.875.613 1.4.613.612 0 1.05-.176 1.487-.613.263-.262.438-.612.438-1.05h-1.925v-.613h2.537v.263zM45.5 6.737h-2.362V8.4h2.187v.612h-2.187v1.663H45.5v.7h-3.062v-5.25H45.5zm2.888 4.638h-.7V6.737H46.2v-.612h3.675v.612h-1.487zm4.025 0v-5.25h.7v5.25zm3.674 0h-.7V6.737H53.9v-.612h3.587v.612H56v4.638zm8.313-.7c-.525.525-1.138.787-1.925.787-.788 0-1.4-.262-1.925-.787-.525-.525-.787-1.138-.787-1.925 0-.787.262-1.4.787-1.925.525-.525 1.138-.788 1.925-.788.788 0 1.4.263 1.925.788.525.525.787 1.138.787 1.925 0 .787-.262 1.4-.787 1.925zm-3.325-.438c.35.35.875.613 1.4.613.525 0 1.05-.175 1.4-.612.35-.35.612-.875.612-1.488s-.174-1.138-.612-1.487c-.35-.35-.875-.613-1.4-.613-.525 0-1.05.175-1.4.612-.35.35-.613.875-.613 1.488s.175 1.137.613 1.488zm5.075 1.138v-5.25h.788l2.537 4.113V6.125h.7v5.25h-.7l-2.712-4.287v4.287z\" fill=\"#FFF\" stroke=\"#FFF\" stroke-width=\".2\"></path><path d=\"M59.587 19.075c-2.1 0-3.762 1.575-3.762 3.762 0 2.1 1.662 3.763 3.762 3.763s3.763-1.575 3.763-3.763c0-2.274-1.663-3.762-3.763-3.762zm0 5.95c-1.137 0-2.1-.962-2.1-2.275s.963-2.275 2.1-2.275c1.138 0 2.1.875 2.1 2.275 0 1.313-.962 2.275-2.1 2.275zm-8.137-5.95c-2.1 0-3.763 1.575-3.763 3.762 0 2.1 1.663 3.763 3.763 3.763 2.1 0 3.762-1.575 3.762-3.763 0-2.274-1.662-3.762-3.762-3.762zm0 5.95c-1.138 0-2.1-.962-2.1-2.275s.962-2.275 2.1-2.275c1.137 0 2.1.875 2.1 2.275 0 1.313-.962 2.275-2.1 2.275zm-9.713-4.813v1.576H45.5c-.087.875-.438 1.575-.875 2.012-.525.525-1.4 1.137-2.888 1.137-2.362 0-4.112-1.837-4.112-4.2 0-2.362 1.837-4.2 4.112-4.2 1.225 0 2.188.526 2.888 1.138l1.138-1.137c-.963-.876-2.188-1.575-3.938-1.575-3.15 0-5.863 2.624-5.863 5.775 0 3.15 2.713 5.774 5.863 5.774 1.75 0 2.975-.524 4.025-1.662 1.05-1.05 1.4-2.538 1.4-3.675 0-.35 0-.7-.087-.963h-5.425zm39.726 1.226c-.35-.875-1.225-2.363-3.15-2.363-1.925 0-3.5 1.488-3.5 3.762 0 2.1 1.575 3.763 3.674 3.763 1.663 0 2.713-1.05 3.063-1.663l-1.225-.875c-.438.613-.963 1.05-1.838 1.05-.874 0-1.4-.35-1.837-1.137l4.987-2.1-.174-.438zm-5.075 1.225c0-1.4 1.137-2.188 1.924-2.188.613 0 1.225.35 1.4.787l-3.325 1.4zm-4.113 3.587h1.662V15.312h-1.662V26.25zm-2.625-6.387c-.438-.438-1.138-.875-2.013-.875-1.837 0-3.587 1.662-3.587 3.762s1.663 3.675 3.588 3.675c.874 0 1.575-.438 1.924-.875h.088v.525c0 1.4-.788 2.188-2.013 2.188-.962 0-1.662-.7-1.837-1.313l-1.4.613c.438.962 1.487 2.187 3.325 2.187 1.925 0 3.5-1.137 3.5-3.85v-6.65H69.65v.613zm-1.925 5.162c-1.137 0-2.1-.962-2.1-2.275s.963-2.275 2.1-2.275c1.138 0 2.013.962 2.013 2.275s-.876 2.275-2.013 2.275zm21.35-9.712h-3.938V26.25H86.8v-4.113h2.275c1.837 0 3.587-1.312 3.587-3.412 0-2.1-1.75-3.413-3.587-3.413zm.087 5.25H86.8V16.8h2.362c1.225 0 1.925 1.05 1.925 1.837-.087.963-.787 1.925-1.925 1.925zm10.063-1.575c-1.225 0-2.45.524-2.887 1.662l1.487.613c.35-.613.875-.788 1.487-.788.876 0 1.663.525 1.75 1.4v.087c-.262-.174-.962-.437-1.662-.437-1.575 0-3.15.875-3.15 2.45 0 1.487 1.313 2.45 2.713 2.45 1.137 0 1.662-.525 2.1-1.05h.087v.875h1.575v-4.2c-.175-1.925-1.662-3.063-3.5-3.063zm-.175 6.037c-.525 0-1.313-.262-1.313-.962 0-.875.963-1.138 1.75-1.138.7 0 1.05.175 1.488.35-.175 1.05-1.05 1.75-1.925 1.75zm9.188-5.775l-1.838 4.725h-.088l-1.924-4.725h-1.75l2.887 6.65-1.663 3.675h1.663l4.462-10.325h-1.75zm-14.7 7H95.2V15.312h-1.663V26.25z\" fill=\"#FFF\"></path><path d=\"M9.1 6.563c-.262.262-.438.7-.438 1.224v19.338c0 .525.175.962.438 1.225l.088.087 10.85-10.85v-.174L9.1 6.563z\" fill=\"url(#store-googleplay-gradient-1)\"></path><path d=\"M23.625 21.262l-3.587-3.587v-.262l3.587-3.588.087.088L28 16.363c1.225.7 1.225 1.837 0 2.537l-4.375 2.363z\" fill=\"url(#store-googleplay-gradient-2)\"></path><path d=\"M23.712 21.175L20.038 17.5 9.1 28.438c.438.437 1.05.437 1.838.087l12.774-7.35\" fill=\"url(#store-googleplay-gradient-3)\"></path><path d=\"M23.712 13.825L10.938 6.563c-.788-.438-1.4-.35-1.838.087L20.038 17.5l3.674-3.675z\" fill=\"url(#store-googleplay-gradient-4)\"></path><path d=\"M23.625 21.087l-12.688 7.175c-.7.438-1.312.35-1.75 0l-.087.088.088.087c.437.35 1.05.438 1.75 0l12.687-7.35z\" fill=\"#000\" opacity=\".2\"></path><path d=\"M9.15 28.262c-.3-.262-.4-.7-.4-1.224v.087c0 .525.2.962.5 1.225v-.088h-.1zM28 18.637l-4.375 2.45.087.088L28 18.725c.613-.35.875-.788.875-1.225 0 .438-.35.788-.875 1.137z\" fill=\"#000\" opacity=\".12\"></path><path d=\"M10.938 6.65L28 16.363c.525.35.875.7.875 1.137 0-.438-.262-.875-.875-1.225L10.937 6.563c-1.224-.7-2.187-.088-2.187 1.312v.088c0-1.4.963-2.013 2.188-1.313z\" fill=\"#FFF\" opacity=\".25\"></path></g></symbol><symbol id=\"wds-company-store-logo-ddb\" viewbox=\"0 0 78 78\"><g fill=\"none\" fill-rule=\"evenodd\" transform=\"translate(-.222 -.111)\"><mask fill=\"#fff\" id=\"mask-2\"><use xlink:href=\"#path-1\"></use></mask><image height=\"85\" mask=\"url(#mask-2)\" width=\"84.444\" x=\"-3\" xlink:href=\"data:image/png;base64,iVBORw0KGgoAAAANSUhEUgAAAJgAAACZCAYAAADTnvOEAAAaj0lEQVR4nO2deZAdxX3Hv/321i66QUKAgiQEki0qBFdxlGNsyWXHAhyBBcGGcpnggGUcQI5zFBVOu0zZYDBgrsIHxAWBglASAoKQOEQBiYrDXpCJBQZLSAJ0sNq3qz20x5vOH29mXh+/7jnezLxj37fq7Zvp7unpmf7M7/frnnmzDIp2Nk/9AmvKrQBwFoCj1fyGGiLUzTi6R3PO9fMO5reLGcxb2DZ16tSW4dy1AFZn3LiG6kkObh3rdK6fl8/nARcwF64XAJxQwaY1VD/qHutwls7L5/M5AHAt1wmVbVNDdaQTWgZz1wIA29Y+9egWnttW6RY1VH/iBWdprtUpktZQQ4mrKXdWjjdcY0MpKQesYLvapvNKN6Sh+lWu0g1oqL7VXOkGVJOSMuUsuMiE0YQFLApMtrIUTFT5iQrdhALMBAqZzsJByOHCQxRmSjkqvd5V14Cpfc6pZUbnB9WlwcP0PO7+CQKqnoGrO8ACoWLB5eLsh8pj7h/fyhEbMtS3dasbwEzAcAIoCg4aGG7JE2HQsVDB8SEzAMfk1boBraYBM0GjQmUsR6BDuc7g/fMAUJifJuYzt60ejEyoo15Aq1nAVGi4EkvRFo2TIFJ1RpYAtRqfMW53gipsqCPQag4wE1hma1WCinKXprqTlLdf5raGSTtiujv1rJo7QKhl0GoGMBUgERYrVIA25RAnwLeNIk1lxTIiJDJA3LVgRI3eMdYwaFUPWFiLJYKlukuqHtM+tDRDT3JiJQg6LV9qp2fZzKCprrMWIKtqwCirFQYsCiZrmqWngqwb8/8Q4IYAT62Mc24enaojCLpUVakqAQsLlucI7VaNSAuYXI0Si1ldpzqI4DIjpCWS3KKcK051eAnV7jarDjAqduJqusFiGb8tQMWJx2JLJcC2M//YAlxnlbvNqgJMsk7umXKUfA4eCiyTpTIBlRRYkayJEsRby3FDzYQ1qybIqgIwk0s0uUMjUCiBFTYO09pRbu8QFYudbgv2raD5FXBwasypzHVUC2QVB4yyWhRcpjx1WzWd+vbLJTnR6olpfQ3Gw9XNvAsjyHXarFmVDQAqCpgKSFirRblCk8WyQaW7S66shxezrElPWnC5fSQAxGhRKitYM23PAqTV4DIrBlgYuOyBvtldat/G6QuupceVXHdxrcRJyaX5t4OgWzYPBh8Kw7SEL2lag7ZmlYasIoCZ4Cqlc7vVIoJ8Cj5qf0FQJQGbzgUncsmCfjJXEkxutmSxCIyqALLMAbNbLrNLpNyhyRXqAFLPTchloNRdlqzA6LB5kHgQkTAY5r7knRS3lPIrDFmmgNkslwqXLdYyWi4NPh0synWqeeVKdIMApNEhBZvnQr3trIMCki4xrzjKzInFKghZZoAFwaWOEqnyIPKg5MOrj9i3V5ZKp9bjShtFiu0jdlK84S1YnhCxlzGfAYxzOOpURoUgywQwo1tsaUHXuWejac5szc3524WY01LzyDQLWKa0csQAjO7ZA4yMoHBgAIW+PMb37kOhrx+Fvj7wsXGtBSUHp7TZarFMMVsRWlP5rJQ6YFbLNTaKwv5ezPzFLWCTOtJuSlXIGRrCeG8vRt59D4Ovv46h3/0eI++8i5H3/wwUCoLtLY0NeaBbpNMZVyyjUj4L0FJ9dUAYt8gBdCz7AuY88uCEgUyVMzSEkXfexeCrr6H/2ecw8Pwm8JERiPbMi838ZcjLap6czsh0sZ60lDpgYWOuzjOX4/AH7wdraUmrOTWjQn8/Bl96BfsfeRQHnnoazsERGSpOAAY7ZEyFjIA1DaUGmFepA2iTpaL1Ej+Tv3U+Zt92C1hraxpNqkmN7tyFfbffgb51T2D8w48ByBbIX0c8yMQ60lAqgIV1jdLHTZvyzfNx+J23gTU1Jd2smhYfHUXPr36D3T+8Ac7AQM1AlhpgkeBCafqAM4ZpF12I2T+/Cayp8fIfVWO7d2PfrXeg5557gfFxK2TmdBqymgAsKlwgywIz/3k1Zl93dXESqSFN+cfW4KMrfoBCPq8BQoFTKSuWqIkwT1xyad3uQovad/Ot2PuzW5NsXl1p6sqzseDFjWidP8/qFeg0TpYDkp8PTNwHUQ2WXKCQrgf/bp6bPvTGG0k3r67UtmABFmx8Gu1Llmh3M4D4kCWpxAAjryAEB/U2d9lQsJpnHYb5T61B67yjzefU+OFSPoTySSkRwKQGMTmHfGbL4Ojlq8j8BERDsppmzMDRax9Fy5w55LN1ZGCleBQgHSuWrAUzXEEAAZn6kbZtwBVVbQsWYM4tN/mDotjxGPS+K0dlA0b6fURzjVy1ekj2ICeKJp+5HFPOWWl8INP28SX0RRLnPzEXaQwyobtGasRCWr3GDEVkzbnxBrBJk+gXvRhdZXoBf1mAmQAR7zWqZal4jAw6G3DFUvOhMzFz1SUAbG7RHPCrKhe0sh/XoWAgRzCWgy2Wk+HK0j2O7/sEzvBQ7O1zkzrRNPmQqrmHOv3Cb+KTe+4FHyodE4duwPw0VlzRrB0vf+I1NmC22Isaodjroi1XVpDtuGw1+p98CoAyox22Ae4F0TxjBlrmHoX2xYtwyNKl6Drts2g54ojkGxyg1vnz0PGZEzH40ssSKP7hhEhLyoGUZcFs1ibcCIYO5rMO7sXbJsWTzORMmzj8jil80oNCTw+Gf9+N/f/5MJq6utC1bCmmn/91TDn9K0Auu3urk89YXgRMaGYwPMQDiq7iApdckI9S7GUChAaKdo1ZjiIZgBwv3qFjjIGxEnA5HvBxyzGG4rZgyHH3RxcDA+hf9wS2ff0C7Lj0cjhDwxkdETD5K1+CPwVBjSoDpi0AJGLGYgFmg8BmqXxZrJep3jQl3vQVwclBtm6mT07ZtpjOwDjzbyT3PvAgtl/49+Dj6rP46ah13jywtnYAep94UgdcUPLUWDqOYlswDihzJvrIMWQtFQnsRUmgKGleOvWxQueBxphrHYED6zfiwPoN2RxTUxPaP72YtEY+ONRdFtDGIK4iA6ZeAaGsmPgxDJOD6kxT4mMtIjy+RTJ8VGunQpdz6yi6XAZW4Nh3592ZHVfLEXPgDaFsFkxaJ+bFTOXDKFaQL/p1L4UEw2rRhJIVvsHtwQBAehpUzKfEtQW3vHA80miUAcObXwUfGwdrSf8Xg01TJstBvTIdwQDpF0tBxxknJCt7olU0t6Y8k/UCdKiS8PtRJcZfoqv0R5bKusmNivGYWo+XzsfGMLZzZybHxYWlMOfSZOnKCfYjXUZB5tUGHFWTGAeQ5jojUeCAWFa38aS2lQHgXD4PHEXIOAecgYHyGhxBJetD/BBXkWzpSuXLGUxGttO6e7TDoFokmyuU8pKa6QspDTAesQlKEM2EFc9lOsj8sHRRk1yuuFKMSlfzglTWTH7xo/cEGSCKZxwlUKljzfo+pGTBuAhahIbY3lnuZuUyHik7Y2NqEwCUmuhfCAR0XmxWblfEDvLV9bCjPxIoYtusXWTO5yO6Wyj2hTsD7r4QjrxI3B7N6voZee99EhQxzWS13JL+cdksn02hAbMF5ZqIORfKVZL7UbbNRJwGKywIkkv0gy7D5Z9rQsv8+XFaGUmF/fsx9OZbSqrcUkmsZIQBs4uMenHEDvKL63b3aI2nLFMTWU9XqHBFgUzsMm+Ze3W6kIllWhYsQK6rM5F229T33PPghYLWfqq9URVlu+gu0lBzGPdoKlHNo0hbHMKBgJ9typABwJTzzyunqeHkONhz1z3kORQ9nc1FilMcfixaOpzQijeKhAUAwsWZvqm6KyURMKA04Srmi/KvYi6sk2e+1Cutixdh2mXfTaS9NvW98CIGXn9DmXbwVoRAMOiEx4y7RJX/uE5AG2z/lUPbThllZQWcBBc3WDJiG2ETf+5L7TvP+TbNnInZD94P1tGeVLNJ8YKDnVddHW9bYTmpGCzUTD5teczdT0NHR5DhXGu68oHiursUy4TK40paSws6V5yBI994Ba2Ljk2l/Z6442DnNddg6A9v63nKt7oMIBI9Yfss2igyxAgvCVgqAV2Ue5BqnhrT5FpawGbPQsfyL6PzWxeg7cQTEmypWfkNG7D7jru0dDUol60rLXnAEl+hXn7iu0Jh5OeAK+t6GXndvR/W2oIjb74Jbccs0PahHknzjBmYtHhxGYcXTmN/eh/Ox7sTqSvX1YXcrEORO/RQsNbsXqaXf/ZZvHfRxf7LUADdspbWGZEm30cVt8uBGeoJVmTAfJAEwCi4vP+SVirD/bq6TvtrHLNuDVhzxf9VUu2Lc/Ru2Ij3V12K8Z4e2k1DhSM7wFJ/SFx0d95y/0sv44PvXZ72rieEdt93P7Z+4wKM9fRE3zik75MsUER/mfgvu8Oq56GH8cn9vy139xNW43192Hruefjz6n+K8Rh2+PnIcpWKBQszguScY8e//hsGu7vTaELdaqynB3t/cx+6P3MS9j+jP36dBCS6xeKx6y0rBnMMAb2jpXGtjPdpP+5YHLduDVrnzInR/ImjkW3bsP/Rx7DvgQcwvP0DKc4FlDsRahwFKn6i4zDqYUnxrYhqnBakSIDJQCUDGAfQdcopWPzkWrC2thBNnlga/N/N+PjGmzHw2msY7+srnlvhPHsKAgwQf/GUHWBV8Zbdgc2bsesnP610M6pSnaeegrm3/xyH/8sP0LHk05VuTmRVhQUDALS14pj7fo3pXz0z2SOsIzkHD2Jg82bs+fV9yG96EWN9fX5etVqwqgGMM6Bp2jQc//KLaDvqqBBNn9ga2rIFO67/EXo3Pus/5FiNgFWFi/Q03tuLP37tHIzHmdOZYJp0/PFY9F+PYMnG9Zi0aFFg+YjTV4kpEmBZNHL4nXex/cqrAMcJLtwQDjnpJCzZuB5HfH81cl1dACoHE6WyLFi5B2Laft/DD+Oju+8ps/aJo+YpUzD3+mtx7AO/RevMmWXXJ/ULL6aEdYmqUnGRTPmWmsa1FFIf/PvVyD/7XKLtqndNXbYUn3rmaXQsOi6gpDfbracmbf3KBixpK+atc8fB7satpMhqX3gMjlv7GDoWLkysznL6OPXHGRhKF4q4rIlDP5JCIaVWyer/8Y0Y697ir8c5oeJxsZkz0Dz3SLQs+RTav7QMrD3dp1hVtR5xBBY+9AD++MUvw/GmMpK6yRixnsiA+RZGSeNeIlPSlG2o7bV6Mtbom1sw/MR/S2BFgYwTy96j4qyrE22f+ywOWfUPaF/2+cweUWo/7ljMveUmbP/2JX4adUzqVIaaZyofVqFdJAP03lfuYZdjSqth5KOCEgS7WkaFiwMoDAxi8OkN2L3i7/DhSZ/D8KaXEmptsGacsxJTTl9OhiFB/aXH0fEUOwYz7TgpULIGzvQ/ktRJYe0OhFDOqwdEGQ6Oka3v4MPTV2DfldeAZ+H+czkc+eMfIdfWFg6YCO4jbP+EAoxunHnoqg9zlVRhJCnVEXKEmbTEJtpeTkxtJ92hIODy7nqI9fbefif2fPdySD+lTkntC+aj8+STQ5UN6s9MpinC7kSFR711EcYCZgUadduKE3nkLS7oYNngKmZw5B98CEObXkzpiAQxhmnnrhQTSo0zbeItcCItomK5SBUQiXCi4VGgrJS48u1bM8Ey+WXFdEZvb4JLvFf7ya13JH8ghKYs/xtpXe07ezwme56ofRQdMAkgcio1XGOFFOoAs4QtTJxFwWbbzgSXCOXQq6+ndUiSWmbNQuvhh5MexaQwA4EwijSKJCEgZoO1ZWrG2GCiWYyrpFzZQYnzMcClfAr9/RkcXVFtx8yH9cxyGT5KcWKxWDFYoInl+pVClQuyWpmBxjg4Kz5UJD5aBISMwdylIljyY0x+GWIAkeWL9lr/Yq6/LF7cVKwsqlxLVtasH4NsnMRGmGNIdSti8pUj4K01ycqHwW8a99NtbzkUX63rba+DR4DlpaU/iBTENJCsp5grxx6zrbEB8/qCgYET7/TRYHOh4WJ+sQKt7TqC6UqKt9SzbqGAelmeZvmIEaYHFzfFCSkoCCaxnAm+OJYs3q0iLp/cIMslWijKWoHpdWR47uX2qOkhzygJmMlVunBlfIh+31GWzDbQysxFipbFBJUPkACOfiIZmJKa9clW9+19GOQLAaBPLieWRZeo1uu7UBcuB6jIr6hCjfYF91hupBLLRTKUACquF92k5gKhdJawYrN02nYpSwu4uZ6veU51mRGgCXVzd8WDCwCaZx1WdtsjiTrpIdxjOSP7WC6ScnVkuqlnmGfDuDEWy3KqQnVj4oXiuRS1b/xBgZomfPsvgBFcolhm0ol/lUDrw4kazQe5x6BRfxiV/exICSi5G4IaI7ojur7s5P1inWyz4UBI4KDDCnBtFOnt89BLV8Vuc2RR769QDoIB/i+IklJ5gEluUl5Xg3h6uyJilBXL0oJ5u+eseILVJodykUSaN0pUYzHOgBnfOA9dp56S3AEEaHzvvkgWzFcZ7hEoIwYz5Xhjo/CNErZRAM0KsuK9QXloTMWSqug0rgX5/rJ7AU3+4jLMvfUWZDnZN/Lu+2pDNYm/f1TByywGkxoEOdgHSpBwSxmvHCemJ8S6sxJH8UfFPuqCm7CBzoUlMdDXLBmKx9rU2YlZqy/H7O9fkekI0uk/gPFdu6JbsATilMRiME9+BwVYIjkGo11lpQL9YpBf+t9kQefZ6CIBsNYWtC9ciOnnnYtpK/4WbQvS/y8fqg5u+QMCbxsYrJfVfYZQAjP50KYsyC6xxmLFLdVRZVY67IrLMHXl1xLZJQfQNHUKmmfOQMucOWieMb3irwrtX7tOBoaHGEWWGXt5SuRepM6NATJKgrVD+K0SVeepJyP9f+5SITkODqx/prROjBw9/57U1ISo5C6tgBGlzTKJkxv+DH9CV9BE18BzL2Bs2wdW16dZsATPfeIxmCcOBriz+5I9UyyWl1aCUYnHGootPjqKnl/cBea9fYdyjSmMHEUlZsE8IPzfA7rpQXNI/vameKyh2Opfsw5Dz28KXV6EMCklAphooZiaQ/17LoI6dfTZUHka3b4De668quhFEM56iaoaFymKmmYQXSUnyqkqJSd5w2JiyRkcxEervofCnr1WuNTAPo3H1RN7u44pSLQGk8r2pQNvKK54wcFH3/lHDL/0SmAca+uzpJS8BTPlBLhKyaC5K12fPy3J5tW9Cr29+PCiVRjcsLGYYJjvSjuwF5Xa+8F0s8zoA+byAQIAYwwzv3MxZq66OI3m1aWGX30NH5x5tg+XaVqChIvog6SU+BSzNCURIo+Kx6ZddCFm33hDI+IPIT4ygp6770XPTbfAyfcBMF3getwFoVxaSuUehurqpBzFVaqTsNMu+TZm/ewnYE1NaTStrtT/+BPY+8MbMLr1HQB0sG4bHZqWk1SqN8no0aIZsskrz8asn97QgMsiZ3AQ/euexP67f4nhN36nD6KokMNPz841ekoNMGluLARknWd9FbN/dU+m/8SzljTc/Sb6HluD/EOPYPzj3WRwrrq7MHFX2krfgsG1UBbIOs9Y3oBLkDM0hLFdH+LgW1sw8Mr/4MD6DRjbYX6eC9DdYli40oYsk3e0AqWZejDxoBg6ln0es//jl2CTOtJuStWJj4+jcGAATr4XB7e+i+G33sLB/9uKg2+/jdE/vQ9eKJCuzASXlm+AC0K5tBXqX8mUK/GBPPHdW2hvx6SVK9B0+GyprPrgHhiRBn1EyrW/ghhV1tzWOLJ12PieveDjY3AODGB8fy8KvXkU+vvhHDgAPjzs/iiDaZaFsjYqLGZ3SY8Y0467RGUCmCcPHvoFb9yQ7q4TebDke0tWMJlaPjlJHUjERvIyDZa0ri5HgMtk6bJQ5o9aiiNLOSzTA39Jhhvk3mDCN/3S6LT0fBl565ML6SEtHCWqXjWdni5gWhnqzTfSssEdittTN7ArAReQMWA+DIAVMg5oT7n626C0gVgfFwu7mcV09ZTK6PgxokKUFDtajidsuniMFHiUxVK/TVZNBo94i06F4AIqZcE8uQfuKIF/Ma9kzSSA3O1EOK3WScuQ0SEMX2gFbaMekwaWYVoB6ncIq1VcVtxiBWIuVRX9NYLk3igQCJdpsmZGiWRKFtNu2aKAp5eh9+CvG6YJolgtMV98UQkjtqsUXEAFAVNPLPXbScplitbM244B/m8sFZ40y+enafXJOw9ykeGtl7tumB4wusQAsFSXKJbJcp4rSJX9PRUUF2eArAiSxZq5K7RLNIgix1a/QZRrptJN6xoIhDv0vmX4iFEiqgsuoAoAA8JA5pYyWDMVND8zqmLMV5h2Q6VbLZdh5BnWapnArLSqAjCAgMxLVEpR1ox0jYYRp7G8oU1xFBYuWyxGAajGWv6yYQRaDaoawACDuzFaM7cAARpp0Yw7SV5GwALmx0xgFddrx2qJqirAPIWzZm4i13vNZJEAIiOlXpHaDjtU5LcAlpdeK1ZLVFUCBgRbsxKE7ly9ApoIqcn9eUZQ3B8XC4SVIbAPSjMF+MU04vaRUKbawfJUtYB5Iq2ZlyHmiQnQ7waIdcnbGZRSwB8cixG3j7Qy9v1Vk6oeMECBzJOBkGJZDzaDj4IMW5JSm2Rcl8JH4t6hsF4r7pBSTQAGGE5qwCQrXPfpjzxRKi/WSRhGdTfh2mPLJ4BSy5njsHD7rEbVDGCiNIsWRAiEWM0vb7BfBqsobmHsaLPBhAkqcd3kCq37rHLVJGCA3Oma64SaKJeT3Ki6IcEdVaW9w/XXHljjMIulqlWwPNUsYJ5MozRxUBl0n1IaJEBnLGwnRw7yQ0xj1LpqHjBRQVZNgszQi2HuPwbtn0wLmGS1NKmmVVeAeRI7yggM160aCEsXZ5+2WGwiQCWqLgETFXa0R026igoxjgi133oHSlXdA6bKENpHn3aIub+JpgkHmKqJDkDaSuX1TQ015KkBWEOpKgdge6Ub0VCdivPuHAcer3Q7GqpPMbDuHJizttINaag+NZpzrs8ddTC/iQO3VboxDdWXOHDbvIP57TkAGB9xrgPn3RVuU0N1I9493uFcB7ijyHnI58dG+dKGJWuoXHHgtrEOvnRePp8HiHnGbe1Tj252ctcx8L8EYydk3cCGalLbOfA4mLP2qIP5TWLG/wMe/9h09O44dAAAAABJRU5ErkJggg==\" y=\"-2\"/></g></symbol></svg></body></html>\n"
          ]
        }
      ],
      "source": [
        "import requests\n",
        "from bs4 import BeautifulSoup\n",
        "import ast\n",
        "\n",
        "LoLWikiUrl = \"https://leagueoflegends.fandom.com/wiki/List_of_champions\"\n",
        "champs_Html = requests.get(LoLWikiUrl)\n",
        "\n",
        "champs_soup = BeautifulSoup(champsHtml.content, 'html.parser')\n",
        "# print(champsHtml_parse)\n",
        "\n",
        "champs_table = champs_soup.find(\"table\", {\"class\": \"article-table sticky-header sortable jquery-tablesorter\"})"
      ]
    },
    {
      "cell_type": "code",
      "metadata": {
        "colab": {
          "base_uri": "https://localhost:8080/"
        },
        "id": "NCjEQd_f7mXS",
        "outputId": "98575f47-1d2d-4106-dbae-570c6a47f802"
      },
      "source": [
        "# import requests\n",
        "# from bs4 import BeautifulSoup\n",
        "# import ast\n",
        "\n",
        "champions = ['garen']\n",
        "popularMythicItemList_itemCode = []\n",
        "\n",
        "for champ in champions:\n",
        "  URL = 'https://lolalytics.com/lol/'+champ+'/build/'\n",
        "  html = requests.get(URL)\n",
        "\n",
        "  soup = BeautifulSoup(html.content, 'html.parser')\n",
        "  script_soup = soup.find_all(\"script\")\n",
        "\n",
        "  script_str = ''\n",
        "  script_str = script_str.join(script_soup[2])\n",
        "  script_str = script_str[len(\"var precache = \"):]\n",
        "  # print(script_str)\n",
        "\n",
        "  mythicItem_str = script_str[script_str.find(\"mythicItem\")-1:script_str.find(\"popularItem\")-2]\n",
        "  # print(mythicItem_str)\n",
        "\n",
        "  mythicItem_list_raw = ast.literal_eval(mythicItem_str[len(\"\\\"mythicItem\\\":\"):])\n",
        "  # print(mythicItem_list_raw)\n",
        "\n",
        "  mythicItem_list = []\n",
        "  for item in mythicItem_list_raw:\n",
        "    mythicItem_list.append(item[0])\n",
        "  # print(mythicItem_list)\n",
        "\n",
        "  popularMythicItem = mythicItem_list[0]\n",
        "  # print(popularMythicItem)\n",
        "\n",
        "  popularMythicItemList_itemCode.append(popularMythicItem)\n",
        "\n",
        "print(popularMythicItemList_itemCode)\n"
      ],
      "execution_count": 5,
      "outputs": [
        {
          "output_type": "stream",
          "name": "stdout",
          "text": [
            "[6631]\n"
          ]
        }
      ]
    },
    {
      "cell_type": "code",
      "execution_count": null,
      "metadata": {},
      "outputs": [],
      "source": []
    }
  ]
}
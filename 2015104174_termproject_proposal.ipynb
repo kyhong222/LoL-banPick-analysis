{
  "nbformat": 4,
  "nbformat_minor": 0,
  "metadata": {
    "colab": {
      "name": "2015104174_termproject_proposal.ipynb",
      "provenance": [],
      "collapsed_sections": []
    },
    "kernelspec": {
      "name": "python3",
      "display_name": "Python 3"
    },
    "language_info": {
      "name": "python"
    }
  },
  "cells": [
    {
      "cell_type": "markdown",
      "metadata": {
        "id": "rXvpdWl-fWMs"
      },
      "source": [
        "# 리그 오브 레전드 챔피언 조합에 따른 승률 분석\n"
      ]
    },
    {
      "cell_type": "markdown",
      "metadata": {
        "id": "vbvAhjolp60K"
      },
      "source": [
        "## 연구 배경"
      ]
    },
    {
      "cell_type": "markdown",
      "metadata": {
        "id": "k9Nyp9lOp4E3"
      },
      "source": [
        "2021년 현재 가장 유명한 e-sports 종목을 뽑자면, riot games의 league of legends(리그오브레전드, 이하 '롤')를 뽑을 수 있을 것이다. 전 세계적으로 대륙 또는 국가 단위로 리그를 운영하고 있고, 분기별로 세계대회가 진행되고 있다. 프로선수 외에도, 수많은 일반 유저들이 즐기고 있는 게임이기도 하다.\n",
        "\n",
        "유저들이 많아짐에 따라 '어떻게 하면 승리할 수 있는가?'에 대한 유저들 간의 의견 교환이 매우 활발하게 일어났고, 그것이 오늘날의 인게임(경기 내용에서의) 지표들을 바탕으로한 정보들에 대한 높은 수요로 이어지게 되었다. 그 결과, 인게임 통계를 전문적으로 제공해주는 서비스(op.gg, fow.kr 등)와 통계자료를 바탕으로 여러가지 인사이트를 제공하는 크리에이터들(프로관전러PS, 롤박사 해도리 등)이 생겨났다. 또한 프로게임단에서도 기존에 있던 인게임 코치 외에 정보분석관이라는 보직을 새롭게 두는 추세이다.\n",
        "\n",
        "앞서 언급한 컨텐츠들은 보통 '특정 아이템의 승률', '특정 챔피언(게임에 등장하는 캐릭터)의 승률' 등을 기반으로 정보가 제공되고 있다. 그러나 '챔피언들의 조합'의 측면에서 분석한 정보들은 많이 제공되고 있지 않다. 이미 프로게임 수준에서는 활발한 분석이 진행되고 있을 수는 있겠으나, 일반 유저들에게는 많이 알려져 있지 않으며, 그 중요도도 상대적으로 낮게 인식되고 있다.\n",
        "\n",
        "이에 따라, riot games에서 제공하는 매치 데이터들을 사용하여 챔피언들의 조합에 따른 승률 분석을 진행해보고자 한다."
      ]
    },
    {
      "cell_type": "markdown",
      "metadata": {
        "id": "z1VMsnjPjUA_"
      },
      "source": [
        "##방법\n",
        "\n"
      ]
    },
    {
      "cell_type": "markdown",
      "metadata": {
        "id": "sW7nE5DqpzXD"
      },
      "source": [
        "### 1. riot games에서 제공하는 매치 데이터를 수집한다.\n",
        "\n",
        "riot games에서 제공하는 api를 사용하여 일정 수준 이상(플래티넘 티어 이상 경기)의 매치 데이터를 수집한다."
      ]
    },
    {
      "cell_type": "code",
      "metadata": {
        "id": "hkQevi1cfVfE"
      },
      "source": [
        "api_key = 'RGAPI-6763d045-e73a-417c-89c9-8c6d7498e5af'\n",
        "sohwan = \"https://kr.api.riotgames.com/lol/summoner/v4/summoners/by-name/\" +'hide on bush' +'?api_key=' + api_key\n",
        "r = requests.get(sohwan)\n",
        "r.json()['id'] #소환사의 고유 id"
      ],
      "execution_count": null,
      "outputs": []
    },
    {
      "cell_type": "markdown",
      "metadata": {
        "id": "zBRDtd0fkw3Y"
      },
      "source": [
        "### 2. 매치 데이터를 바탕으로 챔피언의 역할군 분류를 한다.\n",
        "\n",
        "2021년 기준, 롤은 게임에서 챔피언 당 1개만 구입할 수 있는 '신화 아이템'이 있다. 여러가지 신화 아이템 중 한개만 구입 할 수 있기 때문에, 대부분의 유저들은 자기 챔피언에게 가장 어울리는 신화 아이템을 구매한다.(물론 신화 아이템을 구매하지 않는 경우도 있다. 적절하게 예외처리 한다.)\n",
        "\n",
        "신화 아이템은 각각 역할군으로 분류되어 있으므로, 어떤 한 챔피언에 대하여 가장 선호도가 높은 신화 아이템을 바탕으로 역할군을 나누면, 유저들이 선호하는 해당 챔피언의 역할군을 알 수 있다."
      ]
    },
    {
      "cell_type": "code",
      "metadata": {
        "id": "PqmGrX6LlyvD"
      },
      "source": [
        "# 1. raw_match_data로부터 match data를 정제한다.\n",
        "\n",
        "# 2. 각 매치에 대하여, 매치에 사용된 10명의 챔피언에 대해 각각 사용한 신화 아이템을 카운트한다.\n",
        "\n",
        "# 3. 각 챔피언에 대하여, 가장 많이 사용한 신화아이템을 기반으로 역할군을 분류한다."
      ],
      "execution_count": null,
      "outputs": []
    },
    {
      "cell_type": "markdown",
      "metadata": {
        "id": "3QjD__jlqNZA"
      },
      "source": [
        "### 3. 챔피언의 스킬을 바탕으로 보유한 능력을 정리한다\n",
        "\n",
        "이 부분은 크롤링 할 데이터가 없으므로, 154개의 챔피언을 바탕으로 직점 기록한다.\n",
        "\n",
        "광역하드CC, 단일하드CC, 광역소프트CC, 단일소프트CC, 회복, 보호막, 돌진, 글로벌이동기, 아군버프 등 카테고리를 정하여 정리한다.\n"
      ]
    },
    {
      "cell_type": "code",
      "metadata": {
        "id": "AsXXfJYrq0z-"
      },
      "source": [
        "# abilities = open('abilities.json)\n",
        "# abilities.close()"
      ],
      "execution_count": null,
      "outputs": []
    },
    {
      "cell_type": "markdown",
      "metadata": {
        "id": "tN8K9LoOrGLt"
      },
      "source": [
        "### 4. 매치 데이터를 바탕으로, 사용된 챔피언의 역할군과 능력을 분류하여 정리한다.\n",
        "\n",
        "```\n",
        "team example)\n",
        "team = {\n",
        "  champions = [\"aatrox\", \"graves\", \"ahri\", \"ezreal\", \"janna\"],\n",
        "  roles = {\n",
        "    \"bruser\": 1\n",
        "    \"AD Carry\" : 2\n",
        "    \"mage\" : 1\n",
        "    \"support\" : 1\n",
        "  }\n",
        "  abilities = [\"multiCC\", \"knuckback\", \"blind\", etc...]\n",
        "  }\n",
        "}\n",
        "```"
      ]
    },
    {
      "cell_type": "markdown",
      "metadata": {
        "id": "EeUx4lB3suKG"
      },
      "source": [
        "### 5. 가장 승률이 높은 조합, 특성 데이터 분석 등을 통해 승리 요인을 분석해본다."
      ]
    },
    {
      "cell_type": "markdown",
      "metadata": {
        "id": "DcLBx2XFs15I"
      },
      "source": [
        "### 6. 플래티넘 이상 게임을 직접 관전하고, 결론과 비교하여본다."
      ]
    }
  ]
}